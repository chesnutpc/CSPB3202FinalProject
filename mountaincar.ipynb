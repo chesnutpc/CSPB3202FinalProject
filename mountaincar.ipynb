{
 "cells": [
  {
   "cell_type": "markdown",
   "id": "adab1cc1",
   "metadata": {},
   "source": [
    "<h1>CSPB 3202 Final Project</h1>\n",
    "<h4>By Patrick Chesnut</h4>\n",
    "<span>GitHub: </span><a style=\"color:CornflowerBlue\"><u>https://github.com/chesnutpc/CSPB3202FinalProject</u></a>"
   ]
  },
  {
   "cell_type": "markdown",
   "id": "0a31f81d",
   "metadata": {},
   "source": [
    "<h2>1. Project Overview</h2>\n",
    "\n",
    "In this project, I tackle the Mountain Car problem using reinforcement learning techniques, specifically designed to navigate a car from the bottom of a valley to the top of a hill. The challenge lies in the fact that the car's engine is not powerful enough to reach the summit directly; instead, the solution involves skillfully using momentum by oscillating the car between both sides of the valley. This strategic approach requires an understanding of how to build and leverage momentum to eventually reach the goal.\n",
    "\n",
    "To conduct this study, I utilized the Kaggle environment to leverage GPU resources, as I do not have access to a personal computer equipped with such hardware. For implementing the reinforcement learning models, I used the RLlib library in conjunction with TensorFlow. The focus of the project involves comparing the performance of three distinct algorithms: Asynchronous Proximal Policy Optimization (APPO), Proximal Policy Optimization (PPO), and Deep Q Networks (DQN). By evaluating these algorithms, the goal is to determine which approach most effectively trains the agent to solve the Mountain Car problem, balancing exploration and exploitation to successfully navigate the challenging terrain.\n",
    "\n",
    "The code block below installs all of the necessary packages.\n"
   ]
  },
  {
   "cell_type": "code",
   "execution_count": 2,
   "id": "7d4c1b59",
   "metadata": {
    "execution": {
     "iopub.execute_input": "2024-08-12T08:33:37.192801Z",
     "iopub.status.busy": "2024-08-12T08:33:37.191982Z",
     "iopub.status.idle": "2024-08-12T08:35:43.036930Z",
     "shell.execute_reply": "2024-08-12T08:35:43.035919Z",
     "shell.execute_reply.started": "2024-08-12T08:33:37.192769Z"
    }
   },
   "outputs": [
    {
     "name": "stdout",
     "output_type": "stream",
     "text": [
      "Requirement already satisfied: gymnasium==0.29.0 in /opt/conda/lib/python3.10/site-packages (0.29.0)\n",
      "Requirement already satisfied: numpy>=1.21.0 in /opt/conda/lib/python3.10/site-packages (from gymnasium==0.29.0) (1.26.4)\n",
      "Requirement already satisfied: cloudpickle>=1.2.0 in /opt/conda/lib/python3.10/site-packages (from gymnasium==0.29.0) (2.2.1)\n",
      "Requirement already satisfied: typing-extensions>=4.3.0 in /opt/conda/lib/python3.10/site-packages (from gymnasium==0.29.0) (4.9.0)\n",
      "Requirement already satisfied: farama-notifications>=0.0.1 in /opt/conda/lib/python3.10/site-packages (from gymnasium==0.29.0) (0.0.4)\n",
      "Collecting pygame\n",
      "  Downloading pygame-2.6.0-cp310-cp310-manylinux_2_17_x86_64.manylinux2014_x86_64.whl.metadata (12 kB)\n",
      "Downloading pygame-2.6.0-cp310-cp310-manylinux_2_17_x86_64.manylinux2014_x86_64.whl (14.0 MB)\n",
      "\u001b[2K   \u001b[90m━━━━━━━━━━━━━━━━━━━━━━━━━━━━━━━━━━━━━━━━\u001b[0m \u001b[32m14.0/14.0 MB\u001b[0m \u001b[31m80.4 MB/s\u001b[0m eta \u001b[36m0:00:00\u001b[0m:00:01\u001b[0m0:01\u001b[0m\n",
      "\u001b[?25hInstalling collected packages: pygame\n",
      "Successfully installed pygame-2.6.0\n",
      "Collecting swig\n",
      "  Downloading swig-4.2.1-py2.py3-none-manylinux_2_5_x86_64.manylinux1_x86_64.whl.metadata (3.6 kB)\n",
      "Downloading swig-4.2.1-py2.py3-none-manylinux_2_5_x86_64.manylinux1_x86_64.whl (1.9 MB)\n",
      "\u001b[2K   \u001b[90m━━━━━━━━━━━━━━━━━━━━━━━━━━━━━━━━━━━━━━━━\u001b[0m \u001b[32m1.9/1.9 MB\u001b[0m \u001b[31m25.6 MB/s\u001b[0m eta \u001b[36m0:00:00\u001b[0m00:01\u001b[0m00:01\u001b[0m\n",
      "\u001b[?25hInstalling collected packages: swig\n",
      "Successfully installed swig-4.2.1\n",
      "Requirement already satisfied: gymnasium[box2d] in /opt/conda/lib/python3.10/site-packages (0.29.0)\n",
      "Requirement already satisfied: numpy>=1.21.0 in /opt/conda/lib/python3.10/site-packages (from gymnasium[box2d]) (1.26.4)\n",
      "Requirement already satisfied: cloudpickle>=1.2.0 in /opt/conda/lib/python3.10/site-packages (from gymnasium[box2d]) (2.2.1)\n",
      "Requirement already satisfied: typing-extensions>=4.3.0 in /opt/conda/lib/python3.10/site-packages (from gymnasium[box2d]) (4.9.0)\n",
      "Requirement already satisfied: farama-notifications>=0.0.1 in /opt/conda/lib/python3.10/site-packages (from gymnasium[box2d]) (0.0.4)\n",
      "Collecting box2d-py==2.3.5 (from gymnasium[box2d])\n",
      "  Downloading box2d-py-2.3.5.tar.gz (374 kB)\n",
      "\u001b[2K     \u001b[90m━━━━━━━━━━━━━━━━━━━━━━━━━━━━━━━━━━━━━━━\u001b[0m \u001b[32m374.4/374.4 kB\u001b[0m \u001b[31m9.9 MB/s\u001b[0m eta \u001b[36m0:00:00\u001b[0m00:01\u001b[0m\n",
      "\u001b[?25h  Preparing metadata (setup.py) ... \u001b[?25ldone\n",
      "\u001b[?25hRequirement already satisfied: pygame>=2.1.3 in /opt/conda/lib/python3.10/site-packages (from gymnasium[box2d]) (2.6.0)\n",
      "Requirement already satisfied: swig==4.* in /opt/conda/lib/python3.10/site-packages (from gymnasium[box2d]) (4.2.1)\n",
      "Building wheels for collected packages: box2d-py\n",
      "  Building wheel for box2d-py (setup.py) ... \u001b[?25ldone\n",
      "\u001b[?25h  Created wheel for box2d-py: filename=box2d_py-2.3.5-cp310-cp310-linux_x86_64.whl size=495184 sha256=7e66d9e6d1b7d8709ebb06769d75ab8b124f5dfef97e23df72663b21a15a0059\n",
      "  Stored in directory: /root/.cache/pip/wheels/db/8f/6a/eaaadf056fba10a98d986f6dce954e6201ba3126926fc5ad9e\n",
      "Successfully built box2d-py\n",
      "Installing collected packages: box2d-py\n",
      "Successfully installed box2d-py-2.3.5\n",
      "Requirement already satisfied: tensorflow in /opt/conda/lib/python3.10/site-packages (2.15.0)\n",
      "Requirement already satisfied: absl-py>=1.0.0 in /opt/conda/lib/python3.10/site-packages (from tensorflow) (1.4.0)\n",
      "Requirement already satisfied: astunparse>=1.6.0 in /opt/conda/lib/python3.10/site-packages (from tensorflow) (1.6.3)\n",
      "Requirement already satisfied: flatbuffers>=23.5.26 in /opt/conda/lib/python3.10/site-packages (from tensorflow) (23.5.26)\n",
      "Requirement already satisfied: gast!=0.5.0,!=0.5.1,!=0.5.2,>=0.2.1 in /opt/conda/lib/python3.10/site-packages (from tensorflow) (0.5.4)\n",
      "Requirement already satisfied: google-pasta>=0.1.1 in /opt/conda/lib/python3.10/site-packages (from tensorflow) (0.2.0)\n",
      "Requirement already satisfied: h5py>=2.9.0 in /opt/conda/lib/python3.10/site-packages (from tensorflow) (3.10.0)\n",
      "Requirement already satisfied: libclang>=13.0.0 in /opt/conda/lib/python3.10/site-packages (from tensorflow) (16.0.6)\n",
      "Requirement already satisfied: ml-dtypes~=0.2.0 in /opt/conda/lib/python3.10/site-packages (from tensorflow) (0.2.0)\n",
      "Requirement already satisfied: numpy<2.0.0,>=1.23.5 in /opt/conda/lib/python3.10/site-packages (from tensorflow) (1.26.4)\n",
      "Requirement already satisfied: opt-einsum>=2.3.2 in /opt/conda/lib/python3.10/site-packages (from tensorflow) (3.3.0)\n",
      "Requirement already satisfied: packaging in /opt/conda/lib/python3.10/site-packages (from tensorflow) (21.3)\n",
      "Requirement already satisfied: protobuf!=4.21.0,!=4.21.1,!=4.21.2,!=4.21.3,!=4.21.4,!=4.21.5,<5.0.0dev,>=3.20.3 in /opt/conda/lib/python3.10/site-packages (from tensorflow) (3.20.3)\n",
      "Requirement already satisfied: setuptools in /opt/conda/lib/python3.10/site-packages (from tensorflow) (69.0.3)\n",
      "Requirement already satisfied: six>=1.12.0 in /opt/conda/lib/python3.10/site-packages (from tensorflow) (1.16.0)\n",
      "Requirement already satisfied: termcolor>=1.1.0 in /opt/conda/lib/python3.10/site-packages (from tensorflow) (2.4.0)\n",
      "Requirement already satisfied: typing-extensions>=3.6.6 in /opt/conda/lib/python3.10/site-packages (from tensorflow) (4.9.0)\n",
      "Requirement already satisfied: wrapt<1.15,>=1.11.0 in /opt/conda/lib/python3.10/site-packages (from tensorflow) (1.14.1)\n",
      "Requirement already satisfied: tensorflow-io-gcs-filesystem>=0.23.1 in /opt/conda/lib/python3.10/site-packages (from tensorflow) (0.35.0)\n",
      "Requirement already satisfied: grpcio<2.0,>=1.24.3 in /opt/conda/lib/python3.10/site-packages (from tensorflow) (1.60.0)\n",
      "Requirement already satisfied: tensorboard<2.16,>=2.15 in /opt/conda/lib/python3.10/site-packages (from tensorflow) (2.15.1)\n",
      "Requirement already satisfied: tensorflow-estimator<2.16,>=2.15.0 in /opt/conda/lib/python3.10/site-packages (from tensorflow) (2.15.0)\n",
      "Collecting keras<2.16,>=2.15.0 (from tensorflow)\n",
      "  Downloading keras-2.15.0-py3-none-any.whl.metadata (2.4 kB)\n",
      "Requirement already satisfied: wheel<1.0,>=0.23.0 in /opt/conda/lib/python3.10/site-packages (from astunparse>=1.6.0->tensorflow) (0.42.0)\n",
      "Requirement already satisfied: google-auth<3,>=1.6.3 in /opt/conda/lib/python3.10/site-packages (from tensorboard<2.16,>=2.15->tensorflow) (2.26.1)\n",
      "Requirement already satisfied: google-auth-oauthlib<2,>=0.5 in /opt/conda/lib/python3.10/site-packages (from tensorboard<2.16,>=2.15->tensorflow) (1.2.0)\n",
      "Requirement already satisfied: markdown>=2.6.8 in /opt/conda/lib/python3.10/site-packages (from tensorboard<2.16,>=2.15->tensorflow) (3.5.2)\n",
      "Requirement already satisfied: requests<3,>=2.21.0 in /opt/conda/lib/python3.10/site-packages (from tensorboard<2.16,>=2.15->tensorflow) (2.32.3)\n",
      "Requirement already satisfied: tensorboard-data-server<0.8.0,>=0.7.0 in /opt/conda/lib/python3.10/site-packages (from tensorboard<2.16,>=2.15->tensorflow) (0.7.2)\n",
      "Requirement already satisfied: werkzeug>=1.0.1 in /opt/conda/lib/python3.10/site-packages (from tensorboard<2.16,>=2.15->tensorflow) (3.0.3)\n",
      "Requirement already satisfied: pyparsing!=3.0.5,>=2.0.2 in /opt/conda/lib/python3.10/site-packages (from packaging->tensorflow) (3.1.1)\n",
      "Requirement already satisfied: cachetools<6.0,>=2.0.0 in /opt/conda/lib/python3.10/site-packages (from google-auth<3,>=1.6.3->tensorboard<2.16,>=2.15->tensorflow) (4.2.4)\n",
      "Requirement already satisfied: pyasn1-modules>=0.2.1 in /opt/conda/lib/python3.10/site-packages (from google-auth<3,>=1.6.3->tensorboard<2.16,>=2.15->tensorflow) (0.3.0)\n",
      "Requirement already satisfied: rsa<5,>=3.1.4 in /opt/conda/lib/python3.10/site-packages (from google-auth<3,>=1.6.3->tensorboard<2.16,>=2.15->tensorflow) (4.9)\n",
      "Requirement already satisfied: requests-oauthlib>=0.7.0 in /opt/conda/lib/python3.10/site-packages (from google-auth-oauthlib<2,>=0.5->tensorboard<2.16,>=2.15->tensorflow) (1.3.1)\n",
      "Requirement already satisfied: charset-normalizer<4,>=2 in /opt/conda/lib/python3.10/site-packages (from requests<3,>=2.21.0->tensorboard<2.16,>=2.15->tensorflow) (3.3.2)\n",
      "Requirement already satisfied: idna<4,>=2.5 in /opt/conda/lib/python3.10/site-packages (from requests<3,>=2.21.0->tensorboard<2.16,>=2.15->tensorflow) (3.6)\n",
      "Requirement already satisfied: urllib3<3,>=1.21.1 in /opt/conda/lib/python3.10/site-packages (from requests<3,>=2.21.0->tensorboard<2.16,>=2.15->tensorflow) (1.26.18)\n",
      "Requirement already satisfied: certifi>=2017.4.17 in /opt/conda/lib/python3.10/site-packages (from requests<3,>=2.21.0->tensorboard<2.16,>=2.15->tensorflow) (2024.7.4)\n",
      "Requirement already satisfied: MarkupSafe>=2.1.1 in /opt/conda/lib/python3.10/site-packages (from werkzeug>=1.0.1->tensorboard<2.16,>=2.15->tensorflow) (2.1.3)\n",
      "Requirement already satisfied: pyasn1<0.6.0,>=0.4.6 in /opt/conda/lib/python3.10/site-packages (from pyasn1-modules>=0.2.1->google-auth<3,>=1.6.3->tensorboard<2.16,>=2.15->tensorflow) (0.5.1)\n",
      "Requirement already satisfied: oauthlib>=3.0.0 in /opt/conda/lib/python3.10/site-packages (from requests-oauthlib>=0.7.0->google-auth-oauthlib<2,>=0.5->tensorboard<2.16,>=2.15->tensorflow) (3.2.2)\n",
      "Downloading keras-2.15.0-py3-none-any.whl (1.7 MB)\n",
      "\u001b[2K   \u001b[90m━━━━━━━━━━━━━━━━━━━━━━━━━━━━━━━━━━━━━━━━\u001b[0m \u001b[32m1.7/1.7 MB\u001b[0m \u001b[31m24.0 MB/s\u001b[0m eta \u001b[36m0:00:00\u001b[0m00:01\u001b[0m00:01\u001b[0m\n",
      "\u001b[?25hInstalling collected packages: keras\n",
      "  Attempting uninstall: keras\n",
      "    Found existing installation: keras 3.4.1\n",
      "    Uninstalling keras-3.4.1:\n",
      "      Successfully uninstalled keras-3.4.1\n",
      "\u001b[31mERROR: pip's dependency resolver does not currently take into account all the packages that are installed. This behaviour is the source of the following dependency conflicts.\n",
      "tensorflow-decision-forests 1.8.1 requires wurlitzer, which is not installed.\u001b[0m\u001b[31m\n",
      "\u001b[0mSuccessfully installed keras-2.15.0\n",
      "Requirement already satisfied: ray[rllib] in /opt/conda/lib/python3.10/site-packages (2.9.0)\n",
      "Requirement already satisfied: click>=7.0 in /opt/conda/lib/python3.10/site-packages (from ray[rllib]) (8.1.7)\n",
      "Requirement already satisfied: filelock in /opt/conda/lib/python3.10/site-packages (from ray[rllib]) (3.13.1)\n",
      "Requirement already satisfied: jsonschema in /opt/conda/lib/python3.10/site-packages (from ray[rllib]) (4.20.0)\n",
      "Requirement already satisfied: msgpack<2.0.0,>=1.0.0 in /opt/conda/lib/python3.10/site-packages (from ray[rllib]) (1.0.7)\n",
      "Requirement already satisfied: packaging in /opt/conda/lib/python3.10/site-packages (from ray[rllib]) (21.3)\n",
      "Requirement already satisfied: protobuf!=3.19.5,>=3.15.3 in /opt/conda/lib/python3.10/site-packages (from ray[rllib]) (3.20.3)\n",
      "Requirement already satisfied: pyyaml in /opt/conda/lib/python3.10/site-packages (from ray[rllib]) (6.0.1)\n",
      "Requirement already satisfied: aiosignal in /opt/conda/lib/python3.10/site-packages (from ray[rllib]) (1.3.1)\n",
      "Requirement already satisfied: frozenlist in /opt/conda/lib/python3.10/site-packages (from ray[rllib]) (1.4.1)\n",
      "Requirement already satisfied: requests in /opt/conda/lib/python3.10/site-packages (from ray[rllib]) (2.32.3)\n",
      "Requirement already satisfied: pandas in /opt/conda/lib/python3.10/site-packages (from ray[rllib]) (2.2.2)\n",
      "Requirement already satisfied: tensorboardX>=1.9 in /opt/conda/lib/python3.10/site-packages (from ray[rllib]) (2.6.2.2)\n",
      "Requirement already satisfied: pyarrow>=6.0.1 in /opt/conda/lib/python3.10/site-packages (from ray[rllib]) (16.1.0)\n",
      "Requirement already satisfied: fsspec in /opt/conda/lib/python3.10/site-packages (from ray[rllib]) (2024.5.0)\n",
      "Requirement already satisfied: dm-tree in /opt/conda/lib/python3.10/site-packages (from ray[rllib]) (0.1.8)\n",
      "Collecting gymnasium==0.28.1 (from ray[rllib])\n",
      "  Downloading gymnasium-0.28.1-py3-none-any.whl.metadata (9.2 kB)\n",
      "Requirement already satisfied: lz4 in /opt/conda/lib/python3.10/site-packages (from ray[rllib]) (4.3.3)\n",
      "Requirement already satisfied: scikit-image in /opt/conda/lib/python3.10/site-packages (from ray[rllib]) (0.22.0)\n",
      "Requirement already satisfied: scipy in /opt/conda/lib/python3.10/site-packages (from ray[rllib]) (1.11.4)\n",
      "Requirement already satisfied: typer in /opt/conda/lib/python3.10/site-packages (from ray[rllib]) (0.12.3)\n",
      "Requirement already satisfied: rich in /opt/conda/lib/python3.10/site-packages (from ray[rllib]) (13.7.0)\n",
      "Requirement already satisfied: numpy>=1.21.0 in /opt/conda/lib/python3.10/site-packages (from gymnasium==0.28.1->ray[rllib]) (1.26.4)\n",
      "Requirement already satisfied: jax-jumpy>=1.0.0 in /opt/conda/lib/python3.10/site-packages (from gymnasium==0.28.1->ray[rllib]) (1.0.0)\n",
      "Requirement already satisfied: cloudpickle>=1.2.0 in /opt/conda/lib/python3.10/site-packages (from gymnasium==0.28.1->ray[rllib]) (2.2.1)\n",
      "Requirement already satisfied: typing-extensions>=4.3.0 in /opt/conda/lib/python3.10/site-packages (from gymnasium==0.28.1->ray[rllib]) (4.9.0)\n",
      "Requirement already satisfied: farama-notifications>=0.0.1 in /opt/conda/lib/python3.10/site-packages (from gymnasium==0.28.1->ray[rllib]) (0.0.4)\n",
      "Requirement already satisfied: attrs>=22.2.0 in /opt/conda/lib/python3.10/site-packages (from jsonschema->ray[rllib]) (23.2.0)\n",
      "Requirement already satisfied: jsonschema-specifications>=2023.03.6 in /opt/conda/lib/python3.10/site-packages (from jsonschema->ray[rllib]) (2023.12.1)\n",
      "Requirement already satisfied: referencing>=0.28.4 in /opt/conda/lib/python3.10/site-packages (from jsonschema->ray[rllib]) (0.32.1)\n",
      "Requirement already satisfied: rpds-py>=0.7.1 in /opt/conda/lib/python3.10/site-packages (from jsonschema->ray[rllib]) (0.16.2)\n",
      "Requirement already satisfied: pyparsing!=3.0.5,>=2.0.2 in /opt/conda/lib/python3.10/site-packages (from packaging->ray[rllib]) (3.1.1)\n",
      "Requirement already satisfied: python-dateutil>=2.8.2 in /opt/conda/lib/python3.10/site-packages (from pandas->ray[rllib]) (2.9.0.post0)\n",
      "Requirement already satisfied: pytz>=2020.1 in /opt/conda/lib/python3.10/site-packages (from pandas->ray[rllib]) (2023.3.post1)\n",
      "Requirement already satisfied: tzdata>=2022.7 in /opt/conda/lib/python3.10/site-packages (from pandas->ray[rllib]) (2023.4)\n",
      "Requirement already satisfied: charset-normalizer<4,>=2 in /opt/conda/lib/python3.10/site-packages (from requests->ray[rllib]) (3.3.2)\n",
      "Requirement already satisfied: idna<4,>=2.5 in /opt/conda/lib/python3.10/site-packages (from requests->ray[rllib]) (3.6)\n",
      "Requirement already satisfied: urllib3<3,>=1.21.1 in /opt/conda/lib/python3.10/site-packages (from requests->ray[rllib]) (1.26.18)\n",
      "Requirement already satisfied: certifi>=2017.4.17 in /opt/conda/lib/python3.10/site-packages (from requests->ray[rllib]) (2024.7.4)\n",
      "Requirement already satisfied: markdown-it-py>=2.2.0 in /opt/conda/lib/python3.10/site-packages (from rich->ray[rllib]) (3.0.0)\n",
      "Requirement already satisfied: pygments<3.0.0,>=2.13.0 in /opt/conda/lib/python3.10/site-packages (from rich->ray[rllib]) (2.17.2)\n",
      "Requirement already satisfied: networkx>=2.8 in /opt/conda/lib/python3.10/site-packages (from scikit-image->ray[rllib]) (3.2.1)\n",
      "Requirement already satisfied: pillow>=9.0.1 in /opt/conda/lib/python3.10/site-packages (from scikit-image->ray[rllib]) (9.5.0)\n",
      "Requirement already satisfied: imageio>=2.27 in /opt/conda/lib/python3.10/site-packages (from scikit-image->ray[rllib]) (2.33.1)\n",
      "Requirement already satisfied: tifffile>=2022.8.12 in /opt/conda/lib/python3.10/site-packages (from scikit-image->ray[rllib]) (2023.12.9)\n",
      "Requirement already satisfied: lazy_loader>=0.3 in /opt/conda/lib/python3.10/site-packages (from scikit-image->ray[rllib]) (0.3)\n",
      "Requirement already satisfied: shellingham>=1.3.0 in /opt/conda/lib/python3.10/site-packages (from typer->ray[rllib]) (1.5.4)\n",
      "Requirement already satisfied: mdurl~=0.1 in /opt/conda/lib/python3.10/site-packages (from markdown-it-py>=2.2.0->rich->ray[rllib]) (0.1.2)\n",
      "Requirement already satisfied: six>=1.5 in /opt/conda/lib/python3.10/site-packages (from python-dateutil>=2.8.2->pandas->ray[rllib]) (1.16.0)\n",
      "Downloading gymnasium-0.28.1-py3-none-any.whl (925 kB)\n",
      "\u001b[2K   \u001b[90m━━━━━━━━━━━━━━━━━━━━━━━━━━━━━━━━━━━━━━━━\u001b[0m \u001b[32m925.5/925.5 kB\u001b[0m \u001b[31m15.8 MB/s\u001b[0m eta \u001b[36m0:00:00\u001b[0ma \u001b[36m0:00:01\u001b[0m\n",
      "\u001b[?25hInstalling collected packages: gymnasium\n",
      "  Attempting uninstall: gymnasium\n",
      "    Found existing installation: gymnasium 0.29.0\n",
      "    Uninstalling gymnasium-0.29.0:\n",
      "      Successfully uninstalled gymnasium-0.29.0\n",
      "\u001b[31mERROR: pip's dependency resolver does not currently take into account all the packages that are installed. This behaviour is the source of the following dependency conflicts.\n",
      "kaggle-environments 1.14.15 requires gymnasium==0.29.0, but you have gymnasium 0.28.1 which is incompatible.\u001b[0m\u001b[31m\n",
      "\u001b[0mSuccessfully installed gymnasium-0.28.1\n"
     ]
    },
    {
     "name": "stderr",
     "output_type": "stream",
     "text": [
      "2024-08-12 08:35:40,997\tINFO util.py:124 -- Outdated packages:\n",
      "  ipywidgets==7.7.1 found, needs ipywidgets>=8\n",
      "Run `pip install -U ipywidgets`, then restart the notebook server for rich notebook output.\n",
      "2024-08-12 08:35:42,248\tINFO util.py:124 -- Outdated packages:\n",
      "  ipywidgets==7.7.1 found, needs ipywidgets>=8\n",
      "Run `pip install -U ipywidgets`, then restart the notebook server for rich notebook output.\n"
     ]
    }
   ],
   "source": [
    "# %%capture #supresses output\n",
    "!pip install gymnasium==0.29.0\n",
    "!pip install pygame \n",
    "!pip install swig \n",
    "# !pip install ale-py\n",
    "# !pip install shimmy\n",
    "!pip install \"gymnasium[box2d]\" \n",
    "# !pip install \"gymnasium[other]\" \n",
    "!pip install tensorflow\n",
    "!pip install ray[rllib]\n",
    "import ray\n",
    "from ray import tune\n",
    "# import ale_py\n",
    "# import shimmy\n",
    "import gymnasium as gym\n"
   ]
  },
  {
   "cell_type": "markdown",
   "id": "5c335b98",
   "metadata": {},
   "source": [
    "<h2>2. Environment/Game Rules</h2>\n",
    "\n",
    "The Mountain Car environment presents a reinforcement learning challenge with specific observation and action spaces. The observation space comprises two continuous parameters: the car's position along the x-axis and its velocity. The x-axis position ranges from -1.2 to 0.6, indicating the car’s location within the valley, while the velocity represents the car's speed in the x-direction. Both of these continuous variables provide the agent with crucial information about its current state within the environment.\n",
    "\n",
    "The action space in the Mountain Car problem is discrete, consisting of three distinct actions: accelerate to the left, do nothing, and accelerate to the right. These actions are binary, meaning each action is a single choice among the three available options, allowing the agent to control the car's movement in a straightforward manner.\n",
    "\n",
    "The game can conclude in one of two scenarios. The primary goal is to move the car to the top of the right hill, which is achieved when the car's x-axis position equals 0.5. Alternatively, the game ends if 200 time steps are reached without accomplishing this objective. During gameplay, each time step incurs a reward of -1, and there is no additional reward for reaching the top of the hill. Consequently, to maximize the reward function, the agent must focus on minimizing the time it takes to reach the summit by efficiently navigating the valley and building momentum.\n"
   ]
  },
  {
   "cell_type": "code",
   "execution_count": 3,
   "id": "c26a2c43",
   "metadata": {
    "execution": {
     "iopub.execute_input": "2024-08-12T08:37:00.034915Z",
     "iopub.status.busy": "2024-08-12T08:37:00.034283Z",
     "iopub.status.idle": "2024-08-12T08:37:00.040878Z",
     "shell.execute_reply": "2024-08-12T08:37:00.039922Z",
     "shell.execute_reply.started": "2024-08-12T08:37:00.034888Z"
    }
   },
   "outputs": [],
   "source": [
    "import matplotlib.pyplot as plt\n",
    "%matplotlib inline\n",
    "from IPython import display"
   ]
  },
  {
   "cell_type": "code",
   "execution_count": 4,
   "id": "af9b19c4",
   "metadata": {
    "execution": {
     "iopub.execute_input": "2024-08-12T08:37:03.365446Z",
     "iopub.status.busy": "2024-08-12T08:37:03.365044Z",
     "iopub.status.idle": "2024-08-12T08:37:03.372272Z",
     "shell.execute_reply": "2024-08-12T08:37:03.371259Z",
     "shell.execute_reply.started": "2024-08-12T08:37:03.365415Z"
    }
   },
   "outputs": [],
   "source": [
    "def show_state(env, step=0, info=\"\"):\n",
    "    plt.figure(3)\n",
    "    plt.clf()\n",
    "    plt.imshow(env.render())\n",
    "    plt.title(\"%s | Step: %d %s\" % (env.spec.id,step, info))\n",
    "    plt.axis('off')\n",
    "\n",
    "    display.clear_output(wait=True)\n",
    "    display.display(plt.gcf())"
   ]
  },
  {
   "cell_type": "code",
   "execution_count": 5,
   "id": "2bec1ea6",
   "metadata": {
    "execution": {
     "iopub.execute_input": "2024-08-12T08:37:06.306693Z",
     "iopub.status.busy": "2024-08-12T08:37:06.306162Z",
     "iopub.status.idle": "2024-08-12T08:37:06.326408Z",
     "shell.execute_reply": "2024-08-12T08:37:06.325475Z",
     "shell.execute_reply.started": "2024-08-12T08:37:06.306655Z"
    }
   },
   "outputs": [
    {
     "name": "stdout",
     "output_type": "stream",
     "text": [
      "(array([-0.47480312,  0.        ], dtype=float32), {})\n"
     ]
    },
    {
     "data": {
      "text/plain": [
       "Box([-1.2  -0.07], [0.6  0.07], (2,), float32)"
      ]
     },
     "execution_count": 5,
     "metadata": {},
     "output_type": "execute_result"
    }
   ],
   "source": [
    "import gymnasium as gym\n",
    "\n",
    "env = gym.make(\"MountainCar-v0\", render_mode='rgb_array')\n",
    "\n",
    "total_reward = 0.0\n",
    "total_steps = 0\n",
    "obs = env.reset()\n",
    "print(obs)\n",
    "env.observation_space\n",
    "# Box in output means that elements are continuous\n",
    "# (2,) indicates the shape of the numpy array, vector with 2 dimensions\n",
    "# The first element gives the lower range, the second element gives the upper range\n",
    "# The data type of the elements are float32\n",
    "\n"
   ]
  },
  {
   "cell_type": "markdown",
   "id": "5ead9be6",
   "metadata": {},
   "source": [
    "| Number | Observation               | Min   | Max |\n",
    "|--------|---------------------------|-------|-----|\n",
    "| 0      | X-axis position           | -1.2  | 0.6 |\n",
    "| 1      | Velocity of car           | -0.07 |0.07 |\n"
   ]
  },
  {
   "cell_type": "code",
   "execution_count": 6,
   "id": "6ed26c51",
   "metadata": {
    "execution": {
     "iopub.execute_input": "2024-08-12T08:37:11.375985Z",
     "iopub.status.busy": "2024-08-12T08:37:11.375626Z",
     "iopub.status.idle": "2024-08-12T08:37:11.382614Z",
     "shell.execute_reply": "2024-08-12T08:37:11.381682Z",
     "shell.execute_reply.started": "2024-08-12T08:37:11.375957Z"
    }
   },
   "outputs": [
    {
     "data": {
      "text/plain": [
       "Discrete(3)"
      ]
     },
     "execution_count": 6,
     "metadata": {},
     "output_type": "execute_result"
    }
   ],
   "source": [
    "env.action_space\n",
    "# Discrete(3) indicates shape of numpy array, vector with 3 dimensions\n",
    "# all take on values of either 0 or 1"
   ]
  },
  {
   "cell_type": "markdown",
   "id": "73d9b6e6",
   "metadata": {},
   "source": [
    "| Number | Description                |\n",
    "|--------|----------------------------|\n",
    "| 0      | Accelerate to the left     |\n",
    "| 1      | Don't accelerate           |\n",
    "| 2      | Accelerate to the right    |\n"
   ]
  },
  {
   "cell_type": "code",
   "execution_count": 9,
   "id": "1727d8ac",
   "metadata": {
    "execution": {
     "iopub.execute_input": "2024-08-12T06:37:34.768575Z",
     "iopub.status.busy": "2024-08-12T06:37:34.768149Z",
     "iopub.status.idle": "2024-08-12T06:37:43.646050Z",
     "shell.execute_reply": "2024-08-12T06:37:43.645143Z",
     "shell.execute_reply.started": "2024-08-12T06:37:34.768543Z"
    }
   },
   "outputs": [
    {
     "data": {
      "image/png": "[encoded data removed]",
      "text/plain": [
       "<Figure size 640x480 with 1 Axes>"
      ]
     },
     "metadata": {},
     "output_type": "display_data"
    },
    {
     "name": "stdout",
     "output_type": "stream",
     "text": [
      "Episode done in 51 steps, total reward -51.00\n"
     ]
    },
    {
     "data": {
      "image/png": "[encoded data removed]",
      "text/plain": [
       "<Figure size 640x480 with 1 Axes>"
      ]
     },
     "metadata": {},
     "output_type": "display_data"
    }
   ],
   "source": [
    "# Simulating a random agent\n",
    "# obs gives the next environment state\n",
    "# reward gives the reward for the step\n",
    "# done is bool indicating if game is over\n",
    "\n",
    "# Initalize variables\n",
    "obs = env.reset()\n",
    "total_reward = 0\n",
    "total_steps = 0\n",
    "\n",
    "while True:\n",
    "    action = env.action_space.sample() # random agent\n",
    "    obs, reward, done, _, _ = env.step(action)\n",
    "    total_reward += reward\n",
    "    total_steps += 1\n",
    "    show_state(env,total_steps)\n",
    "    if total_steps > 50:\n",
    "        break\n",
    "    if done:\n",
    "        break\n",
    "\n",
    "\n",
    "print(\"Episode done in %d steps, total reward %.2f\" % (total_steps, total_reward))\n",
    "env.close()\n",
    "# env.env.close()"
   ]
  },
  {
   "cell_type": "code",
   "execution_count": 1,
   "id": "962f4cb0",
   "metadata": {},
   "outputs": [
    {
     "data": {
      "text/html": [
       "<video src=\"MountainCarRandomAgent.mp4\" controls  >\n",
       "      Your browser does not support the <code>video</code> element.\n",
       "    </video>"
      ],
      "text/plain": [
       "<IPython.core.display.Video object>"
      ]
     },
     "execution_count": 1,
     "metadata": {},
     "output_type": "execute_result"
    }
   ],
   "source": [
    "# Here is a short video of the random agent.\n",
    "from IPython.display import Video\n",
    "Video(\"MountainCarRandomAgent.mp4\")\n"
   ]
  },
  {
   "cell_type": "code",
   "execution_count": 11,
   "id": "953bfb1a",
   "metadata": {
    "execution": {
     "iopub.execute_input": "2024-08-12T06:42:47.594023Z",
     "iopub.status.busy": "2024-08-12T06:42:47.593566Z",
     "iopub.status.idle": "2024-08-12T06:43:05.282569Z",
     "shell.execute_reply": "2024-08-12T06:43:05.281618Z",
     "shell.execute_reply.started": "2024-08-12T06:42:47.593990Z"
    }
   },
   "outputs": [
    {
     "data": {
      "image/png": "[encoded data removed]",
      "text/plain": [
       "<Figure size 640x480 with 1 Axes>"
      ]
     },
     "metadata": {},
     "output_type": "display_data"
    },
    {
     "name": "stdout",
     "output_type": "stream",
     "text": [
      "Average total reward for 5 episodes: -21.00\n"
     ]
    },
    {
     "data": {
      "image/png": "[encoded data removed]",
      "text/plain": [
       "<Figure size 640x480 with 1 Axes>"
      ]
     },
     "metadata": {},
     "output_type": "display_data"
    }
   ],
   "source": [
    "# Now we modify the code above to complete multiple episodes and compute the average total_reward\n",
    "ep = 0\n",
    "total_reward_list = []\n",
    "for ep in range(5):\n",
    "    # Initalize variables\n",
    "    obs = env.reset()\n",
    "    total_reward = 0\n",
    "    total_steps = 0\n",
    "    while True:\n",
    "        action = env.action_space.sample() # random agent\n",
    "        obs, reward, done, _, _ = env.step(action)\n",
    "        total_reward += reward\n",
    "        total_steps += 1\n",
    "        show_state(env,total_steps)\n",
    "        if total_steps > 20:\n",
    "            total_reward_list.append(total_reward)\n",
    "            break\n",
    "        if done:\n",
    "            total_reward_list.append(total_reward)\n",
    "            break\n",
    "\n",
    "print(\"Average total reward for %d episodes: %.2f\" % (ep+1, sum(total_reward_list) / len(total_reward_list)))\n",
    "env.close()\n"
   ]
  },
  {
   "cell_type": "code",
   "execution_count": 2,
   "id": "48412c9f",
   "metadata": {},
   "outputs": [
    {
     "data": {
      "text/html": [
       "<video src=\"MountainCarRandomAgent5Trials.mp4\" controls  >\n",
       "      Your browser does not support the <code>video</code> element.\n",
       "    </video>"
      ],
      "text/plain": [
       "<IPython.core.display.Video object>"
      ]
     },
     "execution_count": 2,
     "metadata": {},
     "output_type": "execute_result"
    }
   ],
   "source": [
    "# Here is another short video of 5 trials of the random agent.\n",
    "# I have truncated each episode to 21 steps here.\n",
    "Video(\"MountainCarRandomAgent5Trials.mp4\")\n"
   ]
  },
  {
   "cell_type": "markdown",
   "id": "b88ea744",
   "metadata": {},
   "source": [
    "Here is a summary of documentation available from the Gymnasium webpage [ref1]\n",
    "\n",
    "<h5>Starting State</h5>\n",
    "The goal is to reach the flag placed on top of the right hill as quickly as possible, as such the agent is penalised with a reward of -1 for each timestep.\n",
    "\n",
    "<h5>Reward Function</h5>\n",
    "The goal is to reach the flag placed on top of the right hill as quickly as possible, as such the agent is penalised with a reward of -1 for each timestep.\n",
    "\n",
    "\n",
    "<h5>Episode End</h5>\n",
    "The episode ends if either of the following happens:<br>\n",
    "\n",
    "Termination: The position of the car is greater than or equal to 0.5 (the goal position on top of the right hill)\n",
    "\n",
    "Truncation: The length of the episode is 200."
   ]
  },
  {
   "cell_type": "markdown",
   "id": "d84f0acc",
   "metadata": {},
   "source": [
    "<h2>3. Reinforcement Models</h2>\n",
    "As stated in the introduction this project will use RLlib and TensorFlow. RLlib is an open-source library developed by Ray that provides scalable and versatile implementations of various reinforcement learning algorithms [Ref2]. It simplifies the process of training and evaluating reinforcement learning models by offering high-level abstractions and support for distributed training.  TensorFlow, on the otherhand, is used by RLlib to deploy the reinforcement models.  This project will use Asynchronous Proximal Policy Optimization (APPO), Proximal Policy Optimization (PPO), and Deep Q Networks (DQN) [Ref3].\n"
   ]
  },
  {
   "cell_type": "code",
   "execution_count": 11,
   "id": "4b7dfd9c",
   "metadata": {
    "execution": {
     "iopub.execute_input": "2024-08-12T02:56:12.301132Z",
     "iopub.status.busy": "2024-08-12T02:56:12.300060Z",
     "iopub.status.idle": "2024-08-12T02:56:17.771917Z",
     "shell.execute_reply": "2024-08-12T02:56:17.770897Z",
     "shell.execute_reply.started": "2024-08-12T02:56:12.301085Z"
    }
   },
   "outputs": [
    {
     "name": "stderr",
     "output_type": "stream",
     "text": [
      "2024-08-12 02:56:16,576\tINFO worker.py:1724 -- Started a local Ray instance.\n"
     ]
    },
    {
     "data": {
      "text/html": [
       "<div class=\"lm-Widget p-Widget lm-Panel p-Panel jp-Cell-outputWrapper\">\n",
       "    <div style=\"margin-left: 50px;display: flex;flex-direction: row;align-items: center\">\n",
       "        <div class=\"jp-RenderedHTMLCommon\" style=\"display: flex; flex-direction: row;\">\n",
       "  <svg viewBox=\"0 0 567 224\" fill=\"none\" xmlns=\"http://www.w3.org/2000/svg\" style=\"height: 3em;\">\n",
       "    <g clip-path=\"url(#clip0_4338_178347)\">\n",
       "        <path d=\"M341.29 165.561H355.29L330.13 129.051C345.63 123.991 354.21 112.051 354.21 94.2307C354.21 71.3707 338.72 58.1807 311.88 58.1807H271V165.561H283.27V131.661H311.8C314.25 131.661 316.71 131.501 319.01 131.351L341.25 165.561H341.29ZM283.29 119.851V70.0007H311.82C331.3 70.0007 342.34 78.2907 342.34 94.5507C342.34 111.271 331.34 119.861 311.82 119.861L283.29 119.851ZM451.4 138.411L463.4 165.561H476.74L428.74 58.1807H416L367.83 165.561H380.83L392.83 138.411H451.4ZM446.19 126.601H398L422 72.1407L446.24 126.601H446.19ZM526.11 128.741L566.91 58.1807H554.35L519.99 114.181L485.17 58.1807H472.44L514.01 129.181V165.541H526.13V128.741H526.11Z\" fill=\"var(--jp-ui-font-color0)\"/>\n",
       "        <path d=\"M82.35 104.44C84.0187 97.8827 87.8248 92.0678 93.1671 87.9146C98.5094 83.7614 105.083 81.5067 111.85 81.5067C118.617 81.5067 125.191 83.7614 130.533 87.9146C135.875 92.0678 139.681 97.8827 141.35 104.44H163.75C164.476 101.562 165.622 98.8057 167.15 96.2605L127.45 56.5605C121.071 60.3522 113.526 61.6823 106.235 60.3005C98.9443 58.9187 92.4094 54.9203 87.8602 49.0574C83.3109 43.1946 81.0609 35.8714 81.5332 28.4656C82.0056 21.0599 85.1679 14.0819 90.4252 8.8446C95.6824 3.60726 102.672 0.471508 110.08 0.0272655C117.487 -0.416977 124.802 1.86091 130.647 6.4324C136.493 11.0039 140.467 17.5539 141.821 24.8501C143.175 32.1463 141.816 39.6859 138 46.0505L177.69 85.7505C182.31 82.9877 187.58 81.4995 192.962 81.4375C198.345 81.3755 203.648 82.742 208.33 85.3976C213.012 88.0532 216.907 91.9029 219.616 96.5544C222.326 101.206 223.753 106.492 223.753 111.875C223.753 117.258 222.326 122.545 219.616 127.197C216.907 131.848 213.012 135.698 208.33 138.353C203.648 141.009 198.345 142.375 192.962 142.313C187.58 142.251 182.31 140.763 177.69 138L138 177.7C141.808 184.071 143.155 191.614 141.79 198.91C140.424 206.205 136.44 212.75 130.585 217.313C124.731 221.875 117.412 224.141 110.004 223.683C102.596 223.226 95.6103 220.077 90.3621 214.828C85.1139 209.58 81.9647 202.595 81.5072 195.187C81.0497 187.779 83.3154 180.459 87.878 174.605C92.4405 168.751 98.9853 164.766 106.281 163.401C113.576 162.035 121.119 163.383 127.49 167.19L167.19 127.49C165.664 124.941 164.518 122.182 163.79 119.3H141.39C139.721 125.858 135.915 131.673 130.573 135.826C125.231 139.98 118.657 142.234 111.89 142.234C105.123 142.234 98.5494 139.98 93.2071 135.826C87.8648 131.673 84.0587 125.858 82.39 119.3H60C58.1878 126.495 53.8086 132.78 47.6863 136.971C41.5641 141.163 34.1211 142.972 26.7579 142.059C19.3947 141.146 12.6191 137.574 7.70605 132.014C2.79302 126.454 0.0813599 119.29 0.0813599 111.87C0.0813599 104.451 2.79302 97.2871 7.70605 91.7272C12.6191 86.1673 19.3947 82.5947 26.7579 81.6817C34.1211 80.7686 41.5641 82.5781 47.6863 86.7696C53.8086 90.9611 58.1878 97.2456 60 104.44H82.35ZM100.86 204.32C103.407 206.868 106.759 208.453 110.345 208.806C113.93 209.159 117.527 208.258 120.522 206.256C123.517 204.254 125.725 201.276 126.771 197.828C127.816 194.38 127.633 190.677 126.253 187.349C124.874 184.021 122.383 181.274 119.205 179.577C116.027 177.88 112.359 177.337 108.826 178.042C105.293 178.746 102.113 180.654 99.8291 183.44C97.5451 186.226 96.2979 189.718 96.3 193.32C96.2985 195.364 96.7006 197.388 97.4831 199.275C98.2656 201.163 99.4132 202.877 100.86 204.32ZM204.32 122.88C206.868 120.333 208.453 116.981 208.806 113.396C209.159 109.811 208.258 106.214 206.256 103.219C204.254 100.223 201.275 98.0151 197.827 96.97C194.38 95.9249 190.676 96.1077 187.348 97.4873C184.02 98.8669 181.274 101.358 179.577 104.536C177.879 107.714 177.337 111.382 178.041 114.915C178.746 118.448 180.653 121.627 183.439 123.911C186.226 126.195 189.717 127.443 193.32 127.44C195.364 127.443 197.388 127.042 199.275 126.259C201.163 125.476 202.878 124.328 204.32 122.88ZM122.88 19.4205C120.333 16.8729 116.981 15.2876 113.395 14.9347C109.81 14.5817 106.213 15.483 103.218 17.4849C100.223 19.4868 98.0146 22.4654 96.9696 25.9131C95.9245 29.3608 96.1073 33.0642 97.4869 36.3922C98.8665 39.7202 101.358 42.4668 104.535 44.1639C107.713 45.861 111.381 46.4036 114.914 45.6992C118.447 44.9949 121.627 43.0871 123.911 40.301C126.195 37.515 127.442 34.0231 127.44 30.4205C127.44 28.3772 127.038 26.3539 126.255 24.4664C125.473 22.5788 124.326 20.8642 122.88 19.4205ZM19.42 100.86C16.8725 103.408 15.2872 106.76 14.9342 110.345C14.5813 113.93 15.4826 117.527 17.4844 120.522C19.4863 123.518 22.4649 125.726 25.9127 126.771C29.3604 127.816 33.0638 127.633 36.3918 126.254C39.7198 124.874 42.4664 122.383 44.1635 119.205C45.8606 116.027 46.4032 112.359 45.6988 108.826C44.9944 105.293 43.0866 102.114 40.3006 99.8296C37.5145 97.5455 34.0227 96.2983 30.42 96.3005C26.2938 96.3018 22.337 97.9421 19.42 100.86ZM100.86 100.86C98.3125 103.408 96.7272 106.76 96.3742 110.345C96.0213 113.93 96.9226 117.527 98.9244 120.522C100.926 123.518 103.905 125.726 107.353 126.771C110.8 127.816 114.504 127.633 117.832 126.254C121.16 124.874 123.906 122.383 125.604 119.205C127.301 116.027 127.843 112.359 127.139 108.826C126.434 105.293 124.527 102.114 121.741 99.8296C118.955 97.5455 115.463 96.2983 111.86 96.3005C109.817 96.299 107.793 96.701 105.905 97.4835C104.018 98.2661 102.303 99.4136 100.86 100.86Z\" fill=\"#00AEEF\"/>\n",
       "    </g>\n",
       "    <defs>\n",
       "        <clipPath id=\"clip0_4338_178347\">\n",
       "            <rect width=\"566.93\" height=\"223.75\" fill=\"white\"/>\n",
       "        </clipPath>\n",
       "    </defs>\n",
       "  </svg>\n",
       "</div>\n",
       "\n",
       "        <table class=\"jp-RenderedHTMLCommon\" style=\"border-collapse: collapse;color: var(--jp-ui-font-color1);font-size: var(--jp-ui-font-size1);\">\n",
       "    <tr>\n",
       "        <td style=\"text-align: left\"><b>Python version:</b></td>\n",
       "        <td style=\"text-align: left\"><b>3.10.13</b></td>\n",
       "    </tr>\n",
       "    <tr>\n",
       "        <td style=\"text-align: left\"><b>Ray version:</b></td>\n",
       "        <td style=\"text-align: left\"><b>2.9.0</b></td>\n",
       "    </tr>\n",
       "    \n",
       "</table>\n",
       "\n",
       "    </div>\n",
       "</div>\n"
      ],
      "text/plain": [
       "RayContext(dashboard_url='', python_version='3.10.13', ray_version='2.9.0', ray_commit='9be5a16e3ccad0710bba08d0f75e9ff774ae6880', protocol_version=None)"
      ]
     },
     "execution_count": 11,
     "metadata": {},
     "output_type": "execute_result"
    }
   ],
   "source": [
    "# Initialize RAY\n",
    "ray.init()\n"
   ]
  },
  {
   "cell_type": "markdown",
   "id": "a292fec5",
   "metadata": {},
   "source": [
    "<h3>3a. Asynchronous Proximal Policy Optimization (APPO)</h3>\n",
    "\n",
    "The first model I trained used APPO. It operates by training multiple agents in parallel across different environments, each independently updating a shared global policy. This parallelization allows APPO to leverage diverse experiences and reduce the correlation between updates, leading to more robust and faster learning.\n",
    "\n",
    "Although it trained for 1 hour and 20 minutes, it was never able to successfully solve the problem as shown by the episode_reward_max being -200 indicating that all games ended by reaching the time limit.\n"
   ]
  },
  {
   "cell_type": "code",
   "execution_count": 9,
   "id": "8c593eff",
   "metadata": {
    "execution": {
     "iopub.execute_input": "2024-08-12T08:44:34.232814Z",
     "iopub.status.busy": "2024-08-12T08:44:34.232456Z",
     "iopub.status.idle": "2024-08-12T10:05:28.156750Z",
     "shell.execute_reply": "2024-08-12T10:05:28.155731Z",
     "shell.execute_reply.started": "2024-08-12T08:44:34.232786Z"
    }
   },
   "outputs": [
    {
     "name": "stderr",
     "output_type": "stream",
     "text": [
      "2024-08-12 08:44:34,235\tINFO tune.py:583 -- [output] This uses the legacy output and progress reporter, as Jupyter notebooks are not supported by the new engine, yet. For more information, please see https://github.com/ray-project/ray/issues/36949\n"
     ]
    },
    {
     "data": {
      "text/html": [
       "<div class=\"tuneStatus\">\n",
       "  <div style=\"display: flex;flex-direction: row\">\n",
       "    <div style=\"display: flex;flex-direction: column;\">\n",
       "      <h3>Tune Status</h3>\n",
       "      <table>\n",
       "<tbody>\n",
       "<tr><td>Current time:</td><td>2024-08-12 10:05:26</td></tr>\n",
       "<tr><td>Running for: </td><td>01:20:52.01        </td></tr>\n",
       "<tr><td>Memory:      </td><td>4.6/31.4 GiB       </td></tr>\n",
       "</tbody>\n",
       "</table>\n",
       "    </div>\n",
       "    <div class=\"vDivider\"></div>\n",
       "    <div class=\"systemInfo\">\n",
       "      <h3>System Info</h3>\n",
       "      Using FIFO scheduling algorithm.<br>Logical resource usage: 3.0/4 CPUs, 1.0/1 GPUs (0.0/1.0 accelerator_type:P100)\n",
       "    </div>\n",
       "    \n",
       "  </div>\n",
       "  <div class=\"hDivider\"></div>\n",
       "  <div class=\"trialStatus\">\n",
       "    <h3>Trial Status</h3>\n",
       "    <table>\n",
       "<thead>\n",
       "<tr><th>Trial name                     </th><th>status  </th><th>loc           </th><th style=\"text-align: right;\">  iter</th><th style=\"text-align: right;\">  total time (s)</th><th style=\"text-align: right;\">     ts</th><th style=\"text-align: right;\">  reward</th><th style=\"text-align: right;\">  episode_reward_max</th><th style=\"text-align: right;\">  episode_reward_min</th><th style=\"text-align: right;\">  episode_len_mean</th></tr>\n",
       "</thead>\n",
       "<tbody>\n",
       "<tr><td>APPO_MountainCar-v0_19708_00000</td><td>RUNNING </td><td>172.19.2.2:691</td><td style=\"text-align: right;\">   466</td><td style=\"text-align: right;\">         4722.42</td><td style=\"text-align: right;\">4757200</td><td style=\"text-align: right;\">    -200</td><td style=\"text-align: right;\">                -200</td><td style=\"text-align: right;\">                -200</td><td style=\"text-align: right;\">               200</td></tr>\n",
       "</tbody>\n",
       "</table>\n",
       "  </div>\n",
       "</div>\n",
       "<style>\n",
       ".tuneStatus {\n",
       "  color: var(--jp-ui-font-color1);\n",
       "}\n",
       ".tuneStatus .systemInfo {\n",
       "  display: flex;\n",
       "  flex-direction: column;\n",
       "}\n",
       ".tuneStatus td {\n",
       "  white-space: nowrap;\n",
       "}\n",
       ".tuneStatus .trialStatus {\n",
       "  display: flex;\n",
       "  flex-direction: column;\n",
       "}\n",
       ".tuneStatus h3 {\n",
       "  font-weight: bold;\n",
       "}\n",
       ".tuneStatus .hDivider {\n",
       "  border-bottom-width: var(--jp-border-width);\n",
       "  border-bottom-color: var(--jp-border-color0);\n",
       "  border-bottom-style: solid;\n",
       "}\n",
       ".tuneStatus .vDivider {\n",
       "  border-left-width: var(--jp-border-width);\n",
       "  border-left-color: var(--jp-border-color0);\n",
       "  border-left-style: solid;\n",
       "  margin: 0.5em 1em 0.5em 1em;\n",
       "}\n",
       "</style>\n"
      ],
      "text/plain": [
       "<IPython.core.display.HTML object>"
      ]
     },
     "metadata": {},
     "output_type": "display_data"
    },
    {
     "name": "stderr",
     "output_type": "stream",
     "text": [
      "\u001b[36m(pid=691)\u001b[0m 2024-08-12 08:44:36.107623: E external/local_xla/xla/stream_executor/cuda/cuda_dnn.cc:9261] Unable to register cuDNN factory: Attempting to register factory for plugin cuDNN when one has already been registered\n",
      "\u001b[36m(pid=691)\u001b[0m 2024-08-12 08:44:36.107685: E external/local_xla/xla/stream_executor/cuda/cuda_fft.cc:607] Unable to register cuFFT factory: Attempting to register factory for plugin cuFFT when one has already been registered\n",
      "\u001b[36m(pid=691)\u001b[0m 2024-08-12 08:44:36.109101: E external/local_xla/xla/stream_executor/cuda/cuda_blas.cc:1515] Unable to register cuBLAS factory: Attempting to register factory for plugin cuBLAS when one has already been registered\n",
      "\u001b[36m(pid=723)\u001b[0m 2024-08-12 08:45:21.636097: E external/local_xla/xla/stream_executor/cuda/cuda_dnn.cc:9261] Unable to register cuDNN factory: Attempting to register factory for plugin cuDNN when one has already been registered\n",
      "\u001b[36m(pid=723)\u001b[0m 2024-08-12 08:45:21.636159: E external/local_xla/xla/stream_executor/cuda/cuda_fft.cc:607] Unable to register cuFFT factory: Attempting to register factory for plugin cuFFT when one has already been registered\n",
      "\u001b[36m(pid=723)\u001b[0m 2024-08-12 08:45:21.637671: E external/local_xla/xla/stream_executor/cuda/cuda_blas.cc:1515] Unable to register cuBLAS factory: Attempting to register factory for plugin cuBLAS when one has already been registered\n",
      "\u001b[36m(pid=724)\u001b[0m 2024-08-12 08:45:21.636042: E external/local_xla/xla/stream_executor/cuda/cuda_dnn.cc:9261] Unable to register cuDNN factory: Attempting to register factory for plugin cuDNN when one has already been registered\n",
      "\u001b[36m(pid=724)\u001b[0m 2024-08-12 08:45:21.636107: E external/local_xla/xla/stream_executor/cuda/cuda_fft.cc:607] Unable to register cuFFT factory: Attempting to register factory for plugin cuFFT when one has already been registered\n",
      "\u001b[36m(pid=724)\u001b[0m 2024-08-12 08:45:21.637621: E external/local_xla/xla/stream_executor/cuda/cuda_blas.cc:1515] Unable to register cuBLAS factory: Attempting to register factory for plugin cuBLAS when one has already been registered\n",
      "\u001b[36m(RolloutWorker pid=724)\u001b[0m 2024-08-12 08:46:05.902575: E external/local_xla/xla/stream_executor/cuda/cuda_driver.cc:274] failed call to cuInit: CUDA_ERROR_NO_DEVICE: no CUDA-capable device is detected\n",
      "\u001b[36m(APPO pid=691)\u001b[0m Trainable.setup took 51.676 seconds. If your trainable is slow to initialize, consider setting reuse_actors=True to reduce actor creation overheads.\n",
      "\u001b[36m(APPO pid=691)\u001b[0m Install gputil for GPU system monitoring.\n",
      "\u001b[36m(RolloutWorker pid=723)\u001b[0m 2024-08-12 08:46:06.786447: E external/local_xla/xla/stream_executor/cuda/cuda_driver.cc:274] failed call to cuInit: CUDA_ERROR_NO_DEVICE: no CUDA-capable device is detected\n"
     ]
    },
    {
     "data": {
      "text/html": [
       "<div class=\"trialProgress\">\n",
       "  <h3>Trial Progress</h3>\n",
       "  <table>\n",
       "<thead>\n",
       "<tr><th>Trial name                     </th><th style=\"text-align: right;\">  agent_timesteps_total</th><th>connector_metrics                                                                                                                                            </th><th>counters                                                                                                                                                                                                                                                                                                                                        </th><th>custom_metrics  </th><th style=\"text-align: right;\">  episode_len_mean</th><th>episode_media  </th><th style=\"text-align: right;\">  episode_reward_max</th><th style=\"text-align: right;\">  episode_reward_mean</th><th style=\"text-align: right;\">  episode_reward_min</th><th style=\"text-align: right;\">  episodes_this_iter</th><th>info                                                                                                                                                                                                                                                                                                                                                                                                                                                                                                                                                                                                                                                                                                                                                                                                                                                                                                                                                                                                                                                                                                                                               </th><th style=\"text-align: right;\">  num_agent_steps_sampled</th><th style=\"text-align: right;\">  num_agent_steps_trained</th><th style=\"text-align: right;\">  num_env_steps_sampled</th><th style=\"text-align: right;\">  num_env_steps_sampled_this_iter</th><th style=\"text-align: right;\">  num_env_steps_sampled_throughput_per_sec</th><th style=\"text-align: right;\">  num_env_steps_trained</th><th style=\"text-align: right;\">  num_env_steps_trained_this_iter</th><th style=\"text-align: right;\">  num_env_steps_trained_throughput_per_sec</th><th style=\"text-align: right;\">  num_faulty_episodes</th><th style=\"text-align: right;\">  num_healthy_workers</th><th style=\"text-align: right;\">  num_in_flight_async_reqs</th><th style=\"text-align: right;\">  num_remote_worker_restarts</th><th style=\"text-align: right;\">  num_steps_trained_this_iter</th><th>perf                                                                          </th><th>policy_reward_max  </th><th>policy_reward_mean  </th><th>policy_reward_min  </th><th>sampler_perf                                                                                                                                                                                                     </th><th>sampler_results                                                                                                                                                                                                                                                                                                                                                                                                                                                                                                                                                                                                                                                                                                                                                                                                                                                                                                                                                                                                                                                                                                                                                                                                                                                                                                                                                                                                                                                                                                                                                                                                                                                                                                                                                                                                                                                                                                                                                                                                                                                                                                                      </th><th>timers                                                                                        </th></tr>\n",
       "</thead>\n",
       "<tbody>\n",
       "<tr><td>APPO_MountainCar-v0_19708_00000</td><td style=\"text-align: right;\">                4757200</td><td>{&#x27;ObsPreprocessorConnector_ms&#x27;: 0.00824427604675293, &#x27;StateBufferConnector_ms&#x27;: 0.00691986083984375, &#x27;ViewRequirementAgentConnector_ms&#x27;: 0.17692875862121582}</td><td>{&#x27;num_env_steps_sampled&#x27;: 4757200, &#x27;num_env_steps_trained&#x27;: 4757000, &#x27;num_agent_steps_sampled&#x27;: 4757200, &#x27;num_agent_steps_trained&#x27;: 4757000, &#x27;num_training_step_calls_since_last_synch_worker_weights&#x27;: 0, &#x27;last_target_update_ts&#x27;: 4757200, &#x27;num_weight_broadcasts&#x27;: 93446, &#x27;num_target_updates&#x27;: 93446, &#x27;num_samples_added_to_queue&#x27;: 4757000}</td><td>{}              </td><td style=\"text-align: right;\">               200</td><td>{}             </td><td style=\"text-align: right;\">                -200</td><td style=\"text-align: right;\">                 -200</td><td style=\"text-align: right;\">                -200</td><td style=\"text-align: right;\">                  50</td><td>{&#x27;learner&#x27;: {&#x27;default_policy&#x27;: {&#x27;learner_stats&#x27;: {&#x27;cur_lr&#x27;: 0.0005000000237487257, &#x27;total_loss&#x27;: -0.011634342, &#x27;policy_loss&#x27;: -0.0006537969, &#x27;entropy&#x27;: 1.0986117, &#x27;var_gnorm&#x27;: 28.775139, &#x27;vf_loss&#x27;: 1.1143215e-05, &#x27;vf_explained_var&#x27;: -0.43242085, &#x27;entropy_coeff&#x27;: 0.009999999776482582, &#x27;mean_IS&#x27;: 1.0000029, &#x27;var_IS&#x27;: 2.5641956e-08, &#x27;model&#x27;: {}, &#x27;grad_gnorm&#x27;: [0.0054105907]}, &#x27;train&#x27;: None, &#x27;num_grad_updates_lifetime&#x27;: 9514.0, &#x27;diff_num_grad_updates_vs_sampler_policy&#x27;: 0.3999999999996362}}, &#x27;num_env_steps_sampled&#x27;: 4757200, &#x27;num_env_steps_trained&#x27;: 4757000, &#x27;num_agent_steps_sampled&#x27;: 4757200, &#x27;num_agent_steps_trained&#x27;: 4757000, &#x27;num_training_step_calls_since_last_synch_worker_weights&#x27;: 0, &#x27;last_target_update_ts&#x27;: 4757200, &#x27;num_weight_broadcasts&#x27;: 93446, &#x27;num_target_updates&#x27;: 93446, &#x27;num_samples_added_to_queue&#x27;: 4757000, &#x27;learner_queue&#x27;: {&#x27;size_count&#x27;: 9514, &#x27;size_mean&#x27;: 0.0, &#x27;size_std&#x27;: 0.0, &#x27;size_quantiles&#x27;: [0.0, 0.0, 0.0, 0.0, 0.0]}, &#x27;timing_breakdown&#x27;: {&#x27;learner_grad_time_ms&#x27;: 16.664, &#x27;learner_load_time_ms&#x27;: 4.152, &#x27;learner_load_wait_time_ms&#x27;: 469.737, &#x27;learner_dequeue_time_ms&#x27;: 8005.584}}</td><td style=\"text-align: right;\">                  4757200</td><td style=\"text-align: right;\">                  4757000</td><td style=\"text-align: right;\">                4757200</td><td style=\"text-align: right;\">                            10050</td><td style=\"text-align: right;\">                                   1004.41</td><td style=\"text-align: right;\">                4757000</td><td style=\"text-align: right;\">                            10000</td><td style=\"text-align: right;\">                                   999.414</td><td style=\"text-align: right;\">                    0</td><td style=\"text-align: right;\">                    2</td><td style=\"text-align: right;\">                         3</td><td style=\"text-align: right;\">                           0</td><td style=\"text-align: right;\">                        10000</td><td>{&#x27;cpu_util_percent&#x27;: 79.67333333333333, &#x27;ram_util_percent&#x27;: 14.71333333333333}</td><td>{}                 </td><td>{}                  </td><td>{}                 </td><td>{&#x27;mean_raw_obs_processing_ms&#x27;: 0.5370082168442081, &#x27;mean_inference_ms&#x27;: 0.9817808631960596, &#x27;mean_action_processing_ms&#x27;: 0.20757386749156903, &#x27;mean_env_wait_ms&#x27;: 0.10749102846062929, &#x27;mean_env_render_ms&#x27;: 0.0}</td><td>{&#x27;episode_reward_max&#x27;: -200.0, &#x27;episode_reward_min&#x27;: -200.0, &#x27;episode_reward_mean&#x27;: -200.0, &#x27;episode_len_mean&#x27;: 200.0, &#x27;episode_media&#x27;: {}, &#x27;episodes_this_iter&#x27;: 50, &#x27;policy_reward_min&#x27;: {}, &#x27;policy_reward_max&#x27;: {}, &#x27;policy_reward_mean&#x27;: {}, &#x27;custom_metrics&#x27;: {}, &#x27;hist_stats&#x27;: {&#x27;episode_reward&#x27;: [-200.0, -200.0, -200.0, -200.0, -200.0, -200.0, -200.0, -200.0, -200.0, -200.0, -200.0, -200.0, -200.0, -200.0, -200.0, -200.0, -200.0, -200.0, -200.0, -200.0, -200.0, -200.0, -200.0, -200.0, -200.0, -200.0, -200.0, -200.0, -200.0, -200.0, -200.0, -200.0, -200.0, -200.0, -200.0, -200.0, -200.0, -200.0, -200.0, -200.0, -200.0, -200.0, -200.0, -200.0, -200.0, -200.0, -200.0, -200.0, -200.0, -200.0, -200.0, -200.0, -200.0, -200.0, -200.0, -200.0, -200.0, -200.0, -200.0, -200.0, -200.0, -200.0, -200.0, -200.0, -200.0, -200.0, -200.0, -200.0, -200.0, -200.0, -200.0, -200.0, -200.0, -200.0, -200.0, -200.0, -200.0, -200.0, -200.0, -200.0, -200.0, -200.0, -200.0, -200.0, -200.0, -200.0, -200.0, -200.0, -200.0, -200.0, -200.0, -200.0, -200.0, -200.0, -200.0, -200.0, -200.0, -200.0, -200.0, -200.0], &#x27;episode_lengths&#x27;: [200, 200, 200, 200, 200, 200, 200, 200, 200, 200, 200, 200, 200, 200, 200, 200, 200, 200, 200, 200, 200, 200, 200, 200, 200, 200, 200, 200, 200, 200, 200, 200, 200, 200, 200, 200, 200, 200, 200, 200, 200, 200, 200, 200, 200, 200, 200, 200, 200, 200, 200, 200, 200, 200, 200, 200, 200, 200, 200, 200, 200, 200, 200, 200, 200, 200, 200, 200, 200, 200, 200, 200, 200, 200, 200, 200, 200, 200, 200, 200, 200, 200, 200, 200, 200, 200, 200, 200, 200, 200, 200, 200, 200, 200, 200, 200, 200, 200, 200, 200]}, &#x27;sampler_perf&#x27;: {&#x27;mean_raw_obs_processing_ms&#x27;: 0.5370082168442081, &#x27;mean_inference_ms&#x27;: 0.9817808631960596, &#x27;mean_action_processing_ms&#x27;: 0.20757386749156903, &#x27;mean_env_wait_ms&#x27;: 0.10749102846062929, &#x27;mean_env_render_ms&#x27;: 0.0}, &#x27;num_faulty_episodes&#x27;: 0, &#x27;connector_metrics&#x27;: {&#x27;ObsPreprocessorConnector_ms&#x27;: 0.00824427604675293, &#x27;StateBufferConnector_ms&#x27;: 0.00691986083984375, &#x27;ViewRequirementAgentConnector_ms&#x27;: 0.17692875862121582}}</td><td>{&#x27;training_iteration_time_ms&#x27;: 1.554, &#x27;sample_time_ms&#x27;: 0.314, &#x27;synch_weights_time_ms&#x27;: 0.904}</td></tr>\n",
       "</tbody>\n",
       "</table>\n",
       "</div>\n",
       "<style>\n",
       ".trialProgress {\n",
       "  display: flex;\n",
       "  flex-direction: column;\n",
       "  color: var(--jp-ui-font-color1);\n",
       "}\n",
       ".trialProgress h3 {\n",
       "  font-weight: bold;\n",
       "}\n",
       ".trialProgress td {\n",
       "  white-space: nowrap;\n",
       "}\n",
       "</style>\n"
      ],
      "text/plain": [
       "<IPython.core.display.HTML object>"
      ]
     },
     "metadata": {},
     "output_type": "display_data"
    },
    {
     "name": "stderr",
     "output_type": "stream",
     "text": [
      "2024-08-12 10:05:26,217\tWARNING tune.py:186 -- Stop signal received (e.g. via SIGINT/Ctrl+C), ending Ray Tune run. This will try to checkpoint the experiment state one last time. Press CTRL+C (or send SIGINT/SIGKILL/SIGTERM) to skip. \n",
      "2024-08-12 10:05:27,690\tINFO tune.py:1042 -- Total run time: 4853.46 seconds (4851.97 seconds for the tuning loop).\n",
      "2024-08-12 10:05:27,692\tWARNING tune.py:1057 -- Experiment has been interrupted, but the most recent state was saved.\n",
      "Resume experiment with: tune.run(..., resume=True)\n"
     ]
    },
    {
     "data": {
      "text/plain": [
       "<ray.tune.analysis.experiment_analysis.ExperimentAnalysis at 0x7f9436f39ed0>"
      ]
     },
     "execution_count": 9,
     "metadata": {},
     "output_type": "execute_result"
    }
   ],
   "source": [
    "# To run experiment you need:\n",
    "# 1. A RL environment (MountainCar)\n",
    "# 2. A RL algorithm (Approximate Proximal Policy Optimization)\n",
    "# 3. Configuration (algo config, experiment config, env config)\n",
    "# 4. An experiment runner (tune in Ray)\n",
    "\n",
    "from ray import tune\n",
    "tune.run(\"APPO\",\n",
    "         config={\"env\": \"MountainCar-v0\",\n",
    "                 # other configurations can be specified here\n",
    "                 # can change training phase with evaluation_interval\n",
    "                 # \"evaluation_interval\": 2,\n",
    "                 # can change evaluation phasae with evaluation_num_episodes\n",
    "                 # \"evaluation_duration\": 20,\n",
    "                 \"framework\": \"tf\",\n",
    "                 \"num_gpus\": 1,\n",
    "                 \"storage_path\": \"./results\",\n",
    "                },\n",
    "#          run_config=RunConfig(storage_path=\"./results\", name=\"DQN_experiment\")\n",
    "        )"
   ]
  },
  {
   "cell_type": "markdown",
   "id": "9a77eca8",
   "metadata": {},
   "source": [
    "<h3>3b. Proximal Policy Optimization (PPO)</h3>\n",
    "\n",
    "The second model I trained used PPO. It is a reinforcement learning algorithm designed to optimize policies while maintaining stability and avoiding large, destabilizing updates. PPO achieves this by using a surrogate objective function that includes a clipping mechanism to constrain the policy update, ensuring that changes to the policy are not too drastic. This clipping helps prevent the policy from deviating too far from the current one, which can otherwise lead to poor performance or instability. In contrast to Asynchronous Proximal Policy Optimization (APPO), which trains multiple agents asynchronously across different environments, PPO typically trains a single agent or a set of agents synchronously within the same environment.\n",
    "\n",
    "As can seen from the output below, this algorithm was successful in solving the problem. After 57 minutes of training, the average reward increased to -120, an improvement of 80 timesteps.\n",
    "\n"
   ]
  },
  {
   "cell_type": "code",
   "execution_count": 13,
   "id": "5a4fa624",
   "metadata": {
    "execution": {
     "iopub.execute_input": "2024-08-12T03:09:06.921534Z",
     "iopub.status.busy": "2024-08-12T03:09:06.920478Z",
     "iopub.status.idle": "2024-08-12T04:06:09.805497Z",
     "shell.execute_reply": "2024-08-12T04:06:09.803882Z",
     "shell.execute_reply.started": "2024-08-12T03:09:06.921500Z"
    }
   },
   "outputs": [
    {
     "name": "stderr",
     "output_type": "stream",
     "text": [
      "2024-08-12 03:09:06,923\tINFO tune.py:583 -- [output] This uses the legacy output and progress reporter, as Jupyter notebooks are not supported by the new engine, yet. For more information, please see https://github.com/ray-project/ray/issues/36949\n"
     ]
    },
    {
     "data": {
      "text/html": [
       "<div class=\"tuneStatus\">\n",
       "  <div style=\"display: flex;flex-direction: row\">\n",
       "    <div style=\"display: flex;flex-direction: column;\">\n",
       "      <h3>Tune Status</h3>\n",
       "      <table>\n",
       "<tbody>\n",
       "<tr><td>Current time:</td><td>2024-08-12 04:05:59</td></tr>\n",
       "<tr><td>Running for: </td><td>00:56:52.60        </td></tr>\n",
       "<tr><td>Memory:      </td><td>4.3/31.4 GiB       </td></tr>\n",
       "</tbody>\n",
       "</table>\n",
       "    </div>\n",
       "    <div class=\"vDivider\"></div>\n",
       "    <div class=\"systemInfo\">\n",
       "      <h3>System Info</h3>\n",
       "      Using FIFO scheduling algorithm.<br>Logical resource usage: 3.0/4 CPUs, 1.0/1 GPUs (0.0/1.0 accelerator_type:P100)\n",
       "    </div>\n",
       "    \n",
       "  </div>\n",
       "  <div class=\"hDivider\"></div>\n",
       "  <div class=\"trialStatus\">\n",
       "    <h3>Trial Status</h3>\n",
       "    <table>\n",
       "<thead>\n",
       "<tr><th>Trial name                    </th><th>status  </th><th>loc           </th><th style=\"text-align: right;\">  iter</th><th style=\"text-align: right;\">  total time (s)</th><th style=\"text-align: right;\">     ts</th><th style=\"text-align: right;\">  reward</th><th style=\"text-align: right;\">  episode_reward_max</th><th style=\"text-align: right;\">  episode_reward_min</th><th style=\"text-align: right;\">  episode_len_mean</th></tr>\n",
       "</thead>\n",
       "<tbody>\n",
       "<tr><td>PPO_MountainCar-v0_3ca06_00000</td><td>RUNNING </td><td>172.19.2.2:695</td><td style=\"text-align: right;\">   315</td><td style=\"text-align: right;\">         3312.48</td><td style=\"text-align: right;\">1260000</td><td style=\"text-align: right;\"> -119.99</td><td style=\"text-align: right;\">                 -86</td><td style=\"text-align: right;\">                -200</td><td style=\"text-align: right;\">            119.99</td></tr>\n",
       "</tbody>\n",
       "</table>\n",
       "  </div>\n",
       "</div>\n",
       "<style>\n",
       ".tuneStatus {\n",
       "  color: var(--jp-ui-font-color1);\n",
       "}\n",
       ".tuneStatus .systemInfo {\n",
       "  display: flex;\n",
       "  flex-direction: column;\n",
       "}\n",
       ".tuneStatus td {\n",
       "  white-space: nowrap;\n",
       "}\n",
       ".tuneStatus .trialStatus {\n",
       "  display: flex;\n",
       "  flex-direction: column;\n",
       "}\n",
       ".tuneStatus h3 {\n",
       "  font-weight: bold;\n",
       "}\n",
       ".tuneStatus .hDivider {\n",
       "  border-bottom-width: var(--jp-border-width);\n",
       "  border-bottom-color: var(--jp-border-color0);\n",
       "  border-bottom-style: solid;\n",
       "}\n",
       ".tuneStatus .vDivider {\n",
       "  border-left-width: var(--jp-border-width);\n",
       "  border-left-color: var(--jp-border-color0);\n",
       "  border-left-style: solid;\n",
       "  margin: 0.5em 1em 0.5em 1em;\n",
       "}\n",
       "</style>\n"
      ],
      "text/plain": [
       "<IPython.core.display.HTML object>"
      ]
     },
     "metadata": {},
     "output_type": "display_data"
    },
    {
     "name": "stderr",
     "output_type": "stream",
     "text": [
      "\u001b[36m(pid=695)\u001b[0m 2024-08-12 03:09:08.659711: E external/local_xla/xla/stream_executor/cuda/cuda_dnn.cc:9261] Unable to register cuDNN factory: Attempting to register factory for plugin cuDNN when one has already been registered\n",
      "\u001b[36m(pid=695)\u001b[0m 2024-08-12 03:09:08.659776: E external/local_xla/xla/stream_executor/cuda/cuda_fft.cc:607] Unable to register cuFFT factory: Attempting to register factory for plugin cuFFT when one has already been registered\n",
      "\u001b[36m(pid=695)\u001b[0m 2024-08-12 03:09:08.661225: E external/local_xla/xla/stream_executor/cuda/cuda_blas.cc:1515] Unable to register cuBLAS factory: Attempting to register factory for plugin cuBLAS when one has already been registered\n",
      "\u001b[36m(pid=725)\u001b[0m 2024-08-12 03:09:47.585292: E external/local_xla/xla/stream_executor/cuda/cuda_dnn.cc:9261] Unable to register cuDNN factory: Attempting to register factory for plugin cuDNN when one has already been registered\n",
      "\u001b[36m(pid=725)\u001b[0m 2024-08-12 03:09:47.585348: E external/local_xla/xla/stream_executor/cuda/cuda_fft.cc:607] Unable to register cuFFT factory: Attempting to register factory for plugin cuFFT when one has already been registered\n",
      "\u001b[36m(pid=725)\u001b[0m 2024-08-12 03:09:47.586658: E external/local_xla/xla/stream_executor/cuda/cuda_blas.cc:1515] Unable to register cuBLAS factory: Attempting to register factory for plugin cuBLAS when one has already been registered\n",
      "\u001b[36m(pid=726)\u001b[0m 2024-08-12 03:09:47.585292: E external/local_xla/xla/stream_executor/cuda/cuda_dnn.cc:9261] Unable to register cuDNN factory: Attempting to register factory for plugin cuDNN when one has already been registered\n",
      "\u001b[36m(pid=726)\u001b[0m 2024-08-12 03:09:47.585345: E external/local_xla/xla/stream_executor/cuda/cuda_fft.cc:607] Unable to register cuFFT factory: Attempting to register factory for plugin cuFFT when one has already been registered\n",
      "\u001b[36m(pid=726)\u001b[0m 2024-08-12 03:09:47.586662: E external/local_xla/xla/stream_executor/cuda/cuda_blas.cc:1515] Unable to register cuBLAS factory: Attempting to register factory for plugin cuBLAS when one has already been registered\n",
      "\u001b[36m(RolloutWorker pid=726)\u001b[0m 2024-08-12 03:10:24.472332: E external/local_xla/xla/stream_executor/cuda/cuda_driver.cc:274] failed call to cuInit: CUDA_ERROR_NO_DEVICE: no CUDA-capable device is detected\n",
      "\u001b[36m(PPO pid=695)\u001b[0m Trainable.setup took 44.165 seconds. If your trainable is slow to initialize, consider setting reuse_actors=True to reduce actor creation overheads.\n",
      "\u001b[36m(PPO pid=695)\u001b[0m Install gputil for GPU system monitoring.\n",
      "\u001b[36m(RolloutWorker pid=725)\u001b[0m 2024-08-12 03:10:24.704350: E external/local_xla/xla/stream_executor/cuda/cuda_driver.cc:274] failed call to cuInit: CUDA_ERROR_NO_DEVICE: no CUDA-capable device is detected\n",
      "\u001b[36m(PPO pid=695)\u001b[0m 2024-08-12 03:10:33,545\tWARNING deprecation.py:50 -- DeprecationWarning: `ray.rllib.execution.train_ops.multi_gpu_train_one_step` has been deprecated. This will raise an error in the future!\n"
     ]
    },
    {
     "data": {
      "text/html": [
       "<div class=\"trialProgress\">\n",
       "  <h3>Trial Progress</h3>\n",
       "  <table>\n",
       "<thead>\n",
       "<tr><th>Trial name                    </th><th style=\"text-align: right;\">  agent_timesteps_total</th><th>connector_metrics                                                                                                                                        </th><th>counters                                                                                                                                    </th><th>custom_metrics  </th><th style=\"text-align: right;\">  episode_len_mean</th><th>episode_media  </th><th style=\"text-align: right;\">  episode_reward_max</th><th style=\"text-align: right;\">  episode_reward_mean</th><th style=\"text-align: right;\">  episode_reward_min</th><th style=\"text-align: right;\">  episodes_this_iter</th><th>info                                                                                                                                                                                                                                                                                                                                                                                                                                                                                                                                                                  </th><th style=\"text-align: right;\">  num_agent_steps_sampled</th><th style=\"text-align: right;\">  num_agent_steps_trained</th><th style=\"text-align: right;\">  num_env_steps_sampled</th><th style=\"text-align: right;\">  num_env_steps_sampled_this_iter</th><th style=\"text-align: right;\">  num_env_steps_sampled_throughput_per_sec</th><th style=\"text-align: right;\">  num_env_steps_trained</th><th style=\"text-align: right;\">  num_env_steps_trained_this_iter</th><th style=\"text-align: right;\">  num_env_steps_trained_throughput_per_sec</th><th style=\"text-align: right;\">  num_faulty_episodes</th><th style=\"text-align: right;\">  num_healthy_workers</th><th style=\"text-align: right;\">  num_in_flight_async_reqs</th><th style=\"text-align: right;\">  num_remote_worker_restarts</th><th style=\"text-align: right;\">  num_steps_trained_this_iter</th><th>perf                                                              </th><th>policy_reward_max  </th><th>policy_reward_mean  </th><th>policy_reward_min  </th><th>sampler_perf                                                                                                                                                                                                      </th><th>sampler_results                                                                                                                                                                                                                                                                                                                                                                                                                                                                                                                                                                                                                                                                                                                                                                                                                                                                                                                                                                                                                                                                                                                                                                                                                                                                                                                                                                                                                                                                                                                                                                                                                                                                                                                                                                                                                                                                                                                                                                                                                                                                                        </th><th>timers                                                                                                                                                                                                             </th></tr>\n",
       "</thead>\n",
       "<tbody>\n",
       "<tr><td>PPO_MountainCar-v0_3ca06_00000</td><td style=\"text-align: right;\">                1260000</td><td>{&#x27;ObsPreprocessorConnector_ms&#x27;: 0.0096435546875, &#x27;StateBufferConnector_ms&#x27;: 0.005768537521362305, &#x27;ViewRequirementAgentConnector_ms&#x27;: 0.1531229019165039}</td><td>{&#x27;num_env_steps_sampled&#x27;: 1260000, &#x27;num_env_steps_trained&#x27;: 1260000, &#x27;num_agent_steps_sampled&#x27;: 1260000, &#x27;num_agent_steps_trained&#x27;: 1260000}</td><td>{}              </td><td style=\"text-align: right;\">            119.99</td><td>{}             </td><td style=\"text-align: right;\">                 -86</td><td style=\"text-align: right;\">              -119.99</td><td style=\"text-align: right;\">                -200</td><td style=\"text-align: right;\">                  34</td><td>{&#x27;learner&#x27;: {&#x27;default_policy&#x27;: {&#x27;learner_stats&#x27;: {&#x27;cur_kl_coeff&#x27;: 0.20000000298023224, &#x27;cur_lr&#x27;: 4.999999873689376e-05, &#x27;total_loss&#x27;: 9.733909, &#x27;policy_loss&#x27;: -0.01796662, &#x27;vf_loss&#x27;: 9.751443, &#x27;vf_explained_var&#x27;: -0.25982043, &#x27;kl&#x27;: 0.0021662484, &#x27;entropy&#x27;: 0.15729761, &#x27;entropy_coeff&#x27;: 0.0, &#x27;model&#x27;: {}}, &#x27;train&#x27;: None, &#x27;num_grad_updates_lifetime&#x27;: 292485.5, &#x27;diff_num_grad_updates_vs_sampler_policy&#x27;: 464.5}}, &#x27;num_env_steps_sampled&#x27;: 1260000, &#x27;num_env_steps_trained&#x27;: 1260000, &#x27;num_agent_steps_sampled&#x27;: 1260000, &#x27;num_agent_steps_trained&#x27;: 1260000}</td><td style=\"text-align: right;\">                  1260000</td><td style=\"text-align: right;\">                  1260000</td><td style=\"text-align: right;\">                1260000</td><td style=\"text-align: right;\">                             4000</td><td style=\"text-align: right;\">                                   586.431</td><td style=\"text-align: right;\">                1260000</td><td style=\"text-align: right;\">                             4000</td><td style=\"text-align: right;\">                                   586.431</td><td style=\"text-align: right;\">                    0</td><td style=\"text-align: right;\">                    2</td><td style=\"text-align: right;\">                         0</td><td style=\"text-align: right;\">                           0</td><td style=\"text-align: right;\">                         4000</td><td>{&#x27;cpu_util_percent&#x27;: 49.410000000000004, &#x27;ram_util_percent&#x27;: 13.7}</td><td>{}                 </td><td>{}                  </td><td>{}                 </td><td>{&#x27;mean_raw_obs_processing_ms&#x27;: 0.44006435803723937, &#x27;mean_inference_ms&#x27;: 0.8794096869256043, &#x27;mean_action_processing_ms&#x27;: 0.18546615072742817, &#x27;mean_env_wait_ms&#x27;: 0.09303197436787007, &#x27;mean_env_render_ms&#x27;: 0.0}</td><td>{&#x27;episode_reward_max&#x27;: -86.0, &#x27;episode_reward_min&#x27;: -200.0, &#x27;episode_reward_mean&#x27;: -119.99, &#x27;episode_len_mean&#x27;: 119.99, &#x27;episode_media&#x27;: {}, &#x27;episodes_this_iter&#x27;: 34, &#x27;policy_reward_min&#x27;: {}, &#x27;policy_reward_max&#x27;: {}, &#x27;policy_reward_mean&#x27;: {}, &#x27;custom_metrics&#x27;: {}, &#x27;hist_stats&#x27;: {&#x27;episode_reward&#x27;: [-113.0, -118.0, -123.0, -117.0, -115.0, -171.0, -120.0, -122.0, -99.0, -118.0, -119.0, -114.0, -99.0, -126.0, -114.0, -113.0, -194.0, -123.0, -119.0, -123.0, -117.0, -119.0, -117.0, -117.0, -110.0, -88.0, -116.0, -114.0, -119.0, -200.0, -115.0, -115.0, -118.0, -121.0, -119.0, -117.0, -98.0, -96.0, -117.0, -111.0, -115.0, -120.0, -118.0, -119.0, -116.0, -115.0, -112.0, -132.0, -120.0, -129.0, -117.0, -117.0, -86.0, -124.0, -117.0, -117.0, -116.0, -151.0, -118.0, -122.0, -118.0, -99.0, -118.0, -117.0, -115.0, -118.0, -169.0, -117.0, -98.0, -116.0, -117.0, -115.0, -117.0, -118.0, -116.0, -135.0, -118.0, -156.0, -97.0, -118.0, -112.0, -117.0, -132.0, -171.0, -104.0, -171.0, -99.0, -118.0, -96.0, -159.0, -117.0, -114.0, -118.0, -119.0, -94.0, -118.0, -113.0, -92.0, -170.0, -88.0], &#x27;episode_lengths&#x27;: [113, 118, 123, 117, 115, 171, 120, 122, 99, 118, 119, 114, 99, 126, 114, 113, 194, 123, 119, 123, 117, 119, 117, 117, 110, 88, 116, 114, 119, 200, 115, 115, 118, 121, 119, 117, 98, 96, 117, 111, 115, 120, 118, 119, 116, 115, 112, 132, 120, 129, 117, 117, 86, 124, 117, 117, 116, 151, 118, 122, 118, 99, 118, 117, 115, 118, 169, 117, 98, 116, 117, 115, 117, 118, 116, 135, 118, 156, 97, 118, 112, 117, 132, 171, 104, 171, 99, 118, 96, 159, 117, 114, 118, 119, 94, 118, 113, 92, 170, 88]}, &#x27;sampler_perf&#x27;: {&#x27;mean_raw_obs_processing_ms&#x27;: 0.44006435803723937, &#x27;mean_inference_ms&#x27;: 0.8794096869256043, &#x27;mean_action_processing_ms&#x27;: 0.18546615072742817, &#x27;mean_env_wait_ms&#x27;: 0.09303197436787007, &#x27;mean_env_render_ms&#x27;: 0.0}, &#x27;num_faulty_episodes&#x27;: 0, &#x27;connector_metrics&#x27;: {&#x27;ObsPreprocessorConnector_ms&#x27;: 0.0096435546875, &#x27;StateBufferConnector_ms&#x27;: 0.005768537521362305, &#x27;ViewRequirementAgentConnector_ms&#x27;: 0.1531229019165039}}</td><td>{&#x27;training_iteration_time_ms&#x27;: 6998.625, &#x27;sample_time_ms&#x27;: 3267.971, &#x27;load_time_ms&#x27;: 1.921, &#x27;load_throughput&#x27;: 2081824.567, &#x27;learn_time_ms&#x27;: 3722.472, &#x27;learn_throughput&#x27;: 1074.555, &#x27;synch_weights_time_ms&#x27;: 4.38}</td></tr>\n",
       "</tbody>\n",
       "</table>\n",
       "</div>\n",
       "<style>\n",
       ".trialProgress {\n",
       "  display: flex;\n",
       "  flex-direction: column;\n",
       "  color: var(--jp-ui-font-color1);\n",
       "}\n",
       ".trialProgress h3 {\n",
       "  font-weight: bold;\n",
       "}\n",
       ".trialProgress td {\n",
       "  white-space: nowrap;\n",
       "}\n",
       "</style>\n"
      ],
      "text/plain": [
       "<IPython.core.display.HTML object>"
      ]
     },
     "metadata": {},
     "output_type": "display_data"
    },
    {
     "name": "stderr",
     "output_type": "stream",
     "text": [
      "2024-08-12 04:05:59,506\tWARNING tune.py:186 -- Stop signal received (e.g. via SIGINT/Ctrl+C), ending Ray Tune run. This will try to checkpoint the experiment state one last time. Press CTRL+C (or send SIGINT/SIGKILL/SIGTERM) to skip. \n",
      "2024-08-12 04:06:09,553\tINFO tune.py:1042 -- Total run time: 3422.63 seconds (3412.57 seconds for the tuning loop).\n",
      "2024-08-12 04:06:09,559\tWARNING tune.py:1057 -- Experiment has been interrupted, but the most recent state was saved.\n",
      "Resume experiment with: tune.run(..., resume=True)\n"
     ]
    },
    {
     "data": {
      "text/plain": [
       "<ray.tune.analysis.experiment_analysis.ExperimentAnalysis at 0x79552825dc60>"
      ]
     },
     "execution_count": 13,
     "metadata": {},
     "output_type": "execute_result"
    }
   ],
   "source": [
    "# To run experiment you need:\n",
    "# 1. A RL environment (MountainCar)\n",
    "# 2. A RL algorithm (Proximal Policy Optimization)\n",
    "# 3. Configuration (algo config, experiment config, env config)\n",
    "# Here I use Proximal Policy Optimization (PPO)\n",
    "# 4. An experiment runner (tune in Ray)\n",
    "\n",
    "from ray import tune\n",
    "tune.run(\"PPO\",\n",
    "         config={\"env\": \"MountainCar-v0\",\n",
    "                 # other configurations can be specified here\n",
    "                 # can change training phase with evaluation_interval\n",
    "                 # \"evaluation_interval\": 2,\n",
    "                 # can change evaluation phasae with evaluation_num_episodes\n",
    "                 # \"evaluation_duration\": 20,\n",
    "                 \"framework\": \"tf\",\n",
    "                 \"num_gpus\": 1,\n",
    "                }\n",
    "        )\n",
    "         \n"
   ]
  },
  {
   "cell_type": "markdown",
   "id": "9a1e0338",
   "metadata": {},
   "source": [
    "<h3>3c. Deep Q Networks (DQN)</h3>\n",
    "The final model I trained used DQN.  It is a reinforcement learning algorithm that extends traditional Q-learning by leveraging deep neural networks to approximate the Q-value function, which estimates the expected reward of taking a specific action in a given state. This approach enables DQN to handle high-dimensional state spaces, such as those encountered in complex environments. DQN utilizes techniques like experience replay, where past experiences are stored in a replay buffer and sampled randomly to break correlations between consecutive experiences, and target networks, which stabilize training by using a separate network to generate the target Q-values. <br><br>\n",
    "\n",
    "From the output below, note that after only 30 minutes of training it reached the same average reward of the second model (-120).\n"
   ]
  },
  {
   "cell_type": "code",
   "execution_count": 15,
   "id": "97092e20",
   "metadata": {
    "execution": {
     "iopub.execute_input": "2024-08-12T07:36:50.283928Z",
     "iopub.status.busy": "2024-08-12T07:36:50.283585Z",
     "iopub.status.idle": "2024-08-12T08:08:22.278132Z",
     "shell.execute_reply": "2024-08-12T08:08:22.276424Z",
     "shell.execute_reply.started": "2024-08-12T07:36:50.283899Z"
    }
   },
   "outputs": [
    {
     "name": "stderr",
     "output_type": "stream",
     "text": [
      "2024-08-12 07:36:54,564\tINFO worker.py:1724 -- Started a local Ray instance.\n",
      "2024-08-12 07:36:55,828\tINFO tune.py:220 -- Initializing Ray automatically. For cluster usage or custom Ray initialization, call `ray.init(...)` before `tune.run(...)`.\n",
      "2024-08-12 07:36:55,834\tINFO tune.py:583 -- [output] This uses the legacy output and progress reporter, as Jupyter notebooks are not supported by the new engine, yet. For more information, please see https://github.com/ray-project/ray/issues/36949\n",
      "2024-08-12 07:36:57.759118: E external/local_xla/xla/stream_executor/cuda/cuda_dnn.cc:9261] Unable to register cuDNN factory: Attempting to register factory for plugin cuDNN when one has already been registered\n",
      "2024-08-12 07:36:57.759253: E external/local_xla/xla/stream_executor/cuda/cuda_fft.cc:607] Unable to register cuFFT factory: Attempting to register factory for plugin cuFFT when one has already been registered\n",
      "2024-08-12 07:36:57.892955: E external/local_xla/xla/stream_executor/cuda/cuda_blas.cc:1515] Unable to register cuBLAS factory: Attempting to register factory for plugin cuBLAS when one has already been registered\n",
      "/opt/conda/lib/python3.10/site-packages/gymnasium/spaces/box.py:130: UserWarning: \u001b[33mWARN: Box bound precision lowered by casting to float32\u001b[0m\n",
      "  gym.logger.warn(f\"Box bound precision lowered by casting to {self.dtype}\")\n",
      "/opt/conda/lib/python3.10/site-packages/gymnasium/utils/passive_env_checker.py:164: UserWarning: \u001b[33mWARN: The obs returned by the `reset()` method was expecting numpy array dtype to be float32, actual type: float64\u001b[0m\n",
      "  logger.warn(\n",
      "/opt/conda/lib/python3.10/site-packages/gymnasium/utils/passive_env_checker.py:188: UserWarning: \u001b[33mWARN: The obs returned by the `reset()` method is not within the observation space.\u001b[0m\n",
      "  logger.warn(f\"{pre} is not within the observation space.\")\n"
     ]
    },
    {
     "data": {
      "text/html": [
       "<div class=\"tuneStatus\">\n",
       "  <div style=\"display: flex;flex-direction: row\">\n",
       "    <div style=\"display: flex;flex-direction: column;\">\n",
       "      <h3>Tune Status</h3>\n",
       "      <table>\n",
       "<tbody>\n",
       "<tr><td>Current time:</td><td>2024-08-12 08:08:14</td></tr>\n",
       "<tr><td>Running for: </td><td>00:30:26.56        </td></tr>\n",
       "<tr><td>Memory:      </td><td>3.5/31.4 GiB       </td></tr>\n",
       "</tbody>\n",
       "</table>\n",
       "    </div>\n",
       "    <div class=\"vDivider\"></div>\n",
       "    <div class=\"systemInfo\">\n",
       "      <h3>System Info</h3>\n",
       "      Using FIFO scheduling algorithm.<br>Logical resource usage: 1.0/4 CPUs, 1.0/1 GPUs (0.0/1.0 accelerator_type:P100)\n",
       "    </div>\n",
       "    \n",
       "  </div>\n",
       "  <div class=\"hDivider\"></div>\n",
       "  <div class=\"trialStatus\">\n",
       "    <h3>Trial Status</h3>\n",
       "    <table>\n",
       "<thead>\n",
       "<tr><th>Trial name                    </th><th>status  </th><th>loc           </th><th style=\"text-align: right;\">  iter</th><th style=\"text-align: right;\">  total time (s)</th><th style=\"text-align: right;\">   ts</th><th style=\"text-align: right;\">  reward</th><th style=\"text-align: right;\">  episode_reward_max</th><th style=\"text-align: right;\">  episode_reward_min</th><th style=\"text-align: right;\">  episode_len_mean</th></tr>\n",
       "</thead>\n",
       "<tbody>\n",
       "<tr><td>DQN_MountainCar-v0_c53ee_00000</td><td>RUNNING </td><td>172.19.2.2:821</td><td style=\"text-align: right;\">    60</td><td style=\"text-align: right;\">          1775.5</td><td style=\"text-align: right;\">60000</td><td style=\"text-align: right;\"> -119.56</td><td style=\"text-align: right;\">                 -84</td><td style=\"text-align: right;\">                -200</td><td style=\"text-align: right;\">            119.56</td></tr>\n",
       "</tbody>\n",
       "</table>\n",
       "  </div>\n",
       "</div>\n",
       "<style>\n",
       ".tuneStatus {\n",
       "  color: var(--jp-ui-font-color1);\n",
       "}\n",
       ".tuneStatus .systemInfo {\n",
       "  display: flex;\n",
       "  flex-direction: column;\n",
       "}\n",
       ".tuneStatus td {\n",
       "  white-space: nowrap;\n",
       "}\n",
       ".tuneStatus .trialStatus {\n",
       "  display: flex;\n",
       "  flex-direction: column;\n",
       "}\n",
       ".tuneStatus h3 {\n",
       "  font-weight: bold;\n",
       "}\n",
       ".tuneStatus .hDivider {\n",
       "  border-bottom-width: var(--jp-border-width);\n",
       "  border-bottom-color: var(--jp-border-color0);\n",
       "  border-bottom-style: solid;\n",
       "}\n",
       ".tuneStatus .vDivider {\n",
       "  border-left-width: var(--jp-border-width);\n",
       "  border-left-color: var(--jp-border-color0);\n",
       "  border-left-style: solid;\n",
       "  margin: 0.5em 1em 0.5em 1em;\n",
       "}\n",
       "</style>\n"
      ],
      "text/plain": [
       "<IPython.core.display.HTML object>"
      ]
     },
     "metadata": {},
     "output_type": "display_data"
    },
    {
     "name": "stderr",
     "output_type": "stream",
     "text": [
      "\u001b[36m(pid=821)\u001b[0m 2024-08-12 07:37:49.889269: E external/local_xla/xla/stream_executor/cuda/cuda_dnn.cc:9261] Unable to register cuDNN factory: Attempting to register factory for plugin cuDNN when one has already been registered\n",
      "\u001b[36m(pid=821)\u001b[0m 2024-08-12 07:37:49.889327: E external/local_xla/xla/stream_executor/cuda/cuda_fft.cc:607] Unable to register cuFFT factory: Attempting to register factory for plugin cuFFT when one has already been registered\n",
      "\u001b[36m(pid=821)\u001b[0m 2024-08-12 07:37:49.890799: E external/local_xla/xla/stream_executor/cuda/cuda_blas.cc:1515] Unable to register cuBLAS factory: Attempting to register factory for plugin cuBLAS when one has already been registered\n",
      "\u001b[36m(DQN pid=821)\u001b[0m 2024-08-12 07:38:27,840\tWARNING deprecation.py:50 -- DeprecationWarning: `rllib/algorithms/simple_q/` has been deprecated. Use `rllib_contrib/simple_q/` instead. This will raise an error in the future!\n",
      "\u001b[36m(DQN pid=821)\u001b[0m Install gputil for GPU system monitoring.\n"
     ]
    },
    {
     "data": {
      "text/html": [
       "<div class=\"trialProgress\">\n",
       "  <h3>Trial Progress</h3>\n",
       "  <table>\n",
       "<thead>\n",
       "<tr><th>Trial name                    </th><th style=\"text-align: right;\">  agent_timesteps_total</th><th>connector_metrics                                                                                                                                              </th><th>counters                                                                                                                                                                                           </th><th>custom_metrics  </th><th style=\"text-align: right;\">  episode_len_mean</th><th>episode_media  </th><th style=\"text-align: right;\">  episode_reward_max</th><th style=\"text-align: right;\">  episode_reward_mean</th><th style=\"text-align: right;\">  episode_reward_min</th><th style=\"text-align: right;\">  episodes_this_iter</th><th>info  </th><th style=\"text-align: right;\">  num_agent_steps_sampled</th><th style=\"text-align: right;\">  num_agent_steps_trained</th><th style=\"text-align: right;\">  num_env_steps_sampled</th><th style=\"text-align: right;\">  num_env_steps_sampled_this_iter</th><th style=\"text-align: right;\">  num_env_steps_sampled_throughput_per_sec</th><th style=\"text-align: right;\">  num_env_steps_trained</th><th style=\"text-align: right;\">  num_env_steps_trained_this_iter</th><th style=\"text-align: right;\">  num_env_steps_trained_throughput_per_sec</th><th style=\"text-align: right;\">  num_faulty_episodes</th><th style=\"text-align: right;\">  num_healthy_workers</th><th style=\"text-align: right;\">  num_in_flight_async_reqs</th><th style=\"text-align: right;\">  num_remote_worker_restarts</th><th style=\"text-align: right;\">  num_steps_trained_this_iter</th><th>perf                                                              </th><th>policy_reward_max  </th><th>policy_reward_mean  </th><th>policy_reward_min  </th><th>sampler_perf                                                                                                                                                                                                   </th><th>sampler_results                                                                                                                                                                                                                                                                                                                                                                                                                                                                                                                                                                                                                                                                                                                                                                                                                                                                                                                                                                                                                                                                                                                                                                                                                                                                                                                                                                                                                                                                                                                                                                                                                                                                                                                                                                                                                                                                                                                                                                                                                                                                                          </th><th>timers                                                                                                                                                                                                    </th></tr>\n",
       "</thead>\n",
       "<tbody>\n",
       "<tr><td>DQN_MountainCar-v0_c53ee_00000</td><td style=\"text-align: right;\">                  60000</td><td>{&#x27;ObsPreprocessorConnector_ms&#x27;: 0.007486104965209961, &#x27;StateBufferConnector_ms&#x27;: 0.005586862564086914, &#x27;ViewRequirementAgentConnector_ms&#x27;: 0.14931845664978027}</td><td>{&#x27;num_env_steps_sampled&#x27;: 60000, &#x27;num_env_steps_trained&#x27;: 1888000, &#x27;num_agent_steps_sampled&#x27;: 60000, &#x27;num_agent_steps_trained&#x27;: 1888000, &#x27;last_target_update_ts&#x27;: 59501, &#x27;num_target_updates&#x27;: 118}</td><td>{}              </td><td style=\"text-align: right;\">            119.56</td><td>{}             </td><td style=\"text-align: right;\">                 -84</td><td style=\"text-align: right;\">              -119.56</td><td style=\"text-align: right;\">                -200</td><td style=\"text-align: right;\">                   8</td><td>{&#x27;learner&#x27;: {&#x27;default_policy&#x27;: {&#x27;learner_stats&#x27;: {&#x27;cur_lr&#x27;: 0.0005000000237487257, &#x27;mean_q&#x27;: -45.934616, &#x27;min_q&#x27;: -66.60256, &#x27;max_q&#x27;: -2.9433296, &#x27;mean_td_error&#x27;: 0.119781755, &#x27;model&#x27;: {}}, &#x27;td_error&#x27;: array([ 0.1787262 ,  0.14273643,  0.3707652 ,  0.0442667 ,  0.22458649,\n",
       "       -0.05362701,  0.17427063, -0.05807495, -0.14471245,  0.91041183,\n",
       "        0.2217865 , -0.05713654,  0.14128399,  0.0233078 ,  0.11226654,\n",
       "        0.23463821, -0.02277756,  0.1690216 ,  0.37420273,  0.21588135,\n",
       "        0.07197571,  0.1808815 ,  0.16544724,  0.15568161, -0.19047165,\n",
       "       -0.558506  ,  0.0135994 ,  0.11108017,  0.3219719 ,  0.4044888 ,\n",
       "       -0.23287201,  0.1879158 ], dtype=float32), &#x27;train&#x27;: None, &#x27;num_grad_updates_lifetime&#x27;: 59000.0, &#x27;diff_num_grad_updates_vs_sampler_policy&#x27;: 20956.0625}}, &#x27;num_env_steps_sampled&#x27;: 60000, &#x27;num_env_steps_trained&#x27;: 1888000, &#x27;num_agent_steps_sampled&#x27;: 60000, &#x27;num_agent_steps_trained&#x27;: 1888000, &#x27;last_target_update_ts&#x27;: 59501, &#x27;num_target_updates&#x27;: 118}       </td><td style=\"text-align: right;\">                    60000</td><td style=\"text-align: right;\">                  1888000</td><td style=\"text-align: right;\">                  60000</td><td style=\"text-align: right;\">                             1000</td><td style=\"text-align: right;\">                                   33.4811</td><td style=\"text-align: right;\">                1888000</td><td style=\"text-align: right;\">                            32000</td><td style=\"text-align: right;\">                                   1071.39</td><td style=\"text-align: right;\">                    0</td><td style=\"text-align: right;\">                    0</td><td style=\"text-align: right;\">                         0</td><td style=\"text-align: right;\">                           0</td><td style=\"text-align: right;\">                        32000</td><td>{&#x27;cpu_util_percent&#x27;: 32.614285714285714, &#x27;ram_util_percent&#x27;: 11.0}</td><td>{}                 </td><td>{}                  </td><td>{}                 </td><td>{&#x27;mean_raw_obs_processing_ms&#x27;: 0.9880804146448204, &#x27;mean_inference_ms&#x27;: 2.630664915089733, &#x27;mean_action_processing_ms&#x27;: 0.1839314361469783, &#x27;mean_env_wait_ms&#x27;: 0.09670150400157712, &#x27;mean_env_render_ms&#x27;: 0.0}</td><td>{&#x27;episode_reward_max&#x27;: -84.0, &#x27;episode_reward_min&#x27;: -200.0, &#x27;episode_reward_mean&#x27;: -119.56, &#x27;episode_len_mean&#x27;: 119.56, &#x27;episode_media&#x27;: {}, &#x27;episodes_this_iter&#x27;: 8, &#x27;policy_reward_min&#x27;: {}, &#x27;policy_reward_max&#x27;: {}, &#x27;policy_reward_mean&#x27;: {}, &#x27;custom_metrics&#x27;: {}, &#x27;hist_stats&#x27;: {&#x27;episode_reward&#x27;: [-128.0, -142.0, -123.0, -200.0, -124.0, -200.0, -129.0, -130.0, -137.0, -130.0, -134.0, -123.0, -139.0, -123.0, -126.0, -200.0, -142.0, -136.0, -200.0, -200.0, -121.0, -122.0, -119.0, -116.0, -120.0, -122.0, -117.0, -118.0, -200.0, -115.0, -126.0, -120.0, -134.0, -122.0, -114.0, -113.0, -124.0, -110.0, -113.0, -112.0, -114.0, -123.0, -121.0, -118.0, -110.0, -121.0, -84.0, -112.0, -109.0, -116.0, -120.0, -112.0, -112.0, -118.0, -105.0, -86.0, -115.0, -107.0, -121.0, -111.0, -106.0, -94.0, -110.0, -109.0, -112.0, -88.0, -107.0, -114.0, -114.0, -92.0, -111.0, -86.0, -120.0, -116.0, -116.0, -107.0, -109.0, -85.0, -110.0, -108.0, -89.0, -87.0, -108.0, -107.0, -114.0, -104.0, -99.0, -113.0, -115.0, -107.0, -118.0, -94.0, -168.0, -93.0, -104.0, -103.0, -92.0, -167.0, -115.0, -86.0], &#x27;episode_lengths&#x27;: [128, 142, 123, 200, 124, 200, 129, 130, 137, 130, 134, 123, 139, 123, 126, 200, 142, 136, 200, 200, 121, 122, 119, 116, 120, 122, 117, 118, 200, 115, 126, 120, 134, 122, 114, 113, 124, 110, 113, 112, 114, 123, 121, 118, 110, 121, 84, 112, 109, 116, 120, 112, 112, 118, 105, 86, 115, 107, 121, 111, 106, 94, 110, 109, 112, 88, 107, 114, 114, 92, 111, 86, 120, 116, 116, 107, 109, 85, 110, 108, 89, 87, 108, 107, 114, 104, 99, 113, 115, 107, 118, 94, 168, 93, 104, 103, 92, 167, 115, 86]}, &#x27;sampler_perf&#x27;: {&#x27;mean_raw_obs_processing_ms&#x27;: 0.9880804146448204, &#x27;mean_inference_ms&#x27;: 2.630664915089733, &#x27;mean_action_processing_ms&#x27;: 0.1839314361469783, &#x27;mean_env_wait_ms&#x27;: 0.09670150400157712, &#x27;mean_env_render_ms&#x27;: 0.0}, &#x27;num_faulty_episodes&#x27;: 0, &#x27;connector_metrics&#x27;: {&#x27;ObsPreprocessorConnector_ms&#x27;: 0.007486104965209961, &#x27;StateBufferConnector_ms&#x27;: 0.005586862564086914, &#x27;ViewRequirementAgentConnector_ms&#x27;: 0.14931845664978027}}</td><td>{&#x27;training_iteration_time_ms&#x27;: 29.514, &#x27;sample_time_ms&#x27;: 4.627, &#x27;load_time_ms&#x27;: 1.188, &#x27;load_throughput&#x27;: 26933.504, &#x27;learn_time_ms&#x27;: 5.016, &#x27;learn_throughput&#x27;: 6379.624, &#x27;synch_weights_time_ms&#x27;: 0.024}</td></tr>\n",
       "</tbody>\n",
       "</table>\n",
       "</div>\n",
       "<style>\n",
       ".trialProgress {\n",
       "  display: flex;\n",
       "  flex-direction: column;\n",
       "  color: var(--jp-ui-font-color1);\n",
       "}\n",
       ".trialProgress h3 {\n",
       "  font-weight: bold;\n",
       "}\n",
       ".trialProgress td {\n",
       "  white-space: nowrap;\n",
       "}\n",
       "</style>\n"
      ],
      "text/plain": [
       "<IPython.core.display.HTML object>"
      ]
     },
     "metadata": {},
     "output_type": "display_data"
    },
    {
     "name": "stderr",
     "output_type": "stream",
     "text": [
      "\u001b[36m(DQN pid=821)\u001b[0m 2024-08-12 07:38:39,020\tWARNING deprecation.py:50 -- DeprecationWarning: `ray.rllib.execution.train_ops.multi_gpu_train_one_step` has been deprecated. This will raise an error in the future!\n",
      "2024-08-12 08:08:14,114\tWARNING tune.py:186 -- Stop signal received (e.g. via SIGINT/Ctrl+C), ending Ray Tune run. This will try to checkpoint the experiment state one last time. Press CTRL+C (or send SIGINT/SIGKILL/SIGTERM) to skip. \n"
     ]
    },
    {
     "ename": "KeyboardInterrupt",
     "evalue": "",
     "output_type": "error",
     "traceback": [
      "\u001b[0;31m---------------------------------------------------------------------------\u001b[0m",
      "\u001b[0;31mKeyboardInterrupt\u001b[0m                         Traceback (most recent call last)",
      "Cell \u001b[0;32mIn[15], line 2\u001b[0m\n\u001b[1;32m      1\u001b[0m \u001b[38;5;28;01mfrom\u001b[39;00m \u001b[38;5;21;01mray\u001b[39;00m \u001b[38;5;28;01mimport\u001b[39;00m tune\n\u001b[0;32m----> 2\u001b[0m \u001b[43mtune\u001b[49m\u001b[38;5;241;43m.\u001b[39;49m\u001b[43mrun\u001b[49m\u001b[43m(\u001b[49m\u001b[38;5;124;43m\"\u001b[39;49m\u001b[38;5;124;43mDQN\u001b[39;49m\u001b[38;5;124;43m\"\u001b[39;49m\u001b[43m,\u001b[49m\n\u001b[1;32m      3\u001b[0m \u001b[43m         \u001b[49m\u001b[43mconfig\u001b[49m\u001b[38;5;241;43m=\u001b[39;49m\u001b[43m{\u001b[49m\u001b[38;5;124;43m\"\u001b[39;49m\u001b[38;5;124;43menv\u001b[39;49m\u001b[38;5;124;43m\"\u001b[39;49m\u001b[43m:\u001b[49m\u001b[43m \u001b[49m\u001b[38;5;124;43m\"\u001b[39;49m\u001b[38;5;124;43mMountainCar-v0\u001b[39;49m\u001b[38;5;124;43m\"\u001b[39;49m\u001b[43m,\u001b[49m\n\u001b[1;32m      4\u001b[0m \u001b[43m                 \u001b[49m\u001b[38;5;66;43;03m# other configurations can be specified here\u001b[39;49;00m\n\u001b[1;32m      5\u001b[0m \u001b[43m                 \u001b[49m\u001b[38;5;66;43;03m# can change training phase with evaluation_interval\u001b[39;49;00m\n\u001b[1;32m      6\u001b[0m \u001b[43m                 \u001b[49m\u001b[38;5;66;43;03m# \"evaluation_interval\": 2,\u001b[39;49;00m\n\u001b[1;32m      7\u001b[0m \u001b[43m                 \u001b[49m\u001b[38;5;66;43;03m# can change evaluation phasae with evaluation_num_episodes\u001b[39;49;00m\n\u001b[1;32m      8\u001b[0m \u001b[43m                 \u001b[49m\u001b[38;5;66;43;03m# \"evaluation_duration\": 20,\u001b[39;49;00m\n\u001b[1;32m      9\u001b[0m \u001b[43m                 \u001b[49m\u001b[38;5;124;43m\"\u001b[39;49m\u001b[38;5;124;43mframework\u001b[39;49m\u001b[38;5;124;43m\"\u001b[39;49m\u001b[43m:\u001b[49m\u001b[43m \u001b[49m\u001b[38;5;124;43m\"\u001b[39;49m\u001b[38;5;124;43mtf\u001b[39;49m\u001b[38;5;124;43m\"\u001b[39;49m\u001b[43m,\u001b[49m\n\u001b[1;32m     10\u001b[0m \u001b[43m                 \u001b[49m\u001b[38;5;124;43m\"\u001b[39;49m\u001b[38;5;124;43mnum_gpus\u001b[39;49m\u001b[38;5;124;43m\"\u001b[39;49m\u001b[43m:\u001b[49m\u001b[43m \u001b[49m\u001b[38;5;241;43m1\u001b[39;49m\u001b[43m,\u001b[49m\n\u001b[1;32m     11\u001b[0m \u001b[43m                 \u001b[49m\u001b[38;5;124;43m\"\u001b[39;49m\u001b[38;5;124;43mstorage_path\u001b[39;49m\u001b[38;5;124;43m\"\u001b[39;49m\u001b[43m:\u001b[49m\u001b[43m \u001b[49m\u001b[38;5;124;43m\"\u001b[39;49m\u001b[38;5;124;43m./results\u001b[39;49m\u001b[38;5;124;43m\"\u001b[39;49m\u001b[43m,\u001b[49m\n\u001b[1;32m     12\u001b[0m \u001b[43m                \u001b[49m\u001b[43m}\u001b[49m\u001b[43m,\u001b[49m\n\u001b[1;32m     13\u001b[0m \u001b[38;5;66;43;03m#          run_config=RunConfig(storage_path=\"./results\", name=\"DQN_experiment\")\u001b[39;49;00m\n\u001b[1;32m     14\u001b[0m \u001b[43m        \u001b[49m\u001b[43m)\u001b[49m\n",
      "File \u001b[0;32m/opt/conda/lib/python3.10/site-packages/ray/tune/tune.py:1027\u001b[0m, in \u001b[0;36mrun\u001b[0;34m(run_or_experiment, name, metric, mode, stop, time_budget_s, config, resources_per_trial, num_samples, storage_path, storage_filesystem, search_alg, scheduler, checkpoint_config, verbose, progress_reporter, log_to_file, trial_name_creator, trial_dirname_creator, sync_config, export_formats, max_failures, fail_fast, restore, resume, reuse_actors, raise_on_failed_trial, callbacks, max_concurrent_trials, keep_checkpoints_num, checkpoint_score_attr, checkpoint_freq, checkpoint_at_end, chdir_to_trial_dir, local_dir, _remote, _remote_string_queue, _entrypoint)\u001b[0m\n\u001b[1;32m   1023\u001b[0m     _report_air_progress(runner, air_progress_reporter, force\u001b[38;5;241m=\u001b[39m\u001b[38;5;28;01mTrue\u001b[39;00m)\n\u001b[1;32m   1025\u001b[0m all_trials \u001b[38;5;241m=\u001b[39m runner\u001b[38;5;241m.\u001b[39mget_trials()\n\u001b[0;32m-> 1027\u001b[0m \u001b[43mrunner\u001b[49m\u001b[38;5;241;43m.\u001b[39;49m\u001b[43mcleanup\u001b[49m\u001b[43m(\u001b[49m\u001b[43m)\u001b[49m\n\u001b[1;32m   1029\u001b[0m incomplete_trials \u001b[38;5;241m=\u001b[39m []\n\u001b[1;32m   1030\u001b[0m \u001b[38;5;28;01mfor\u001b[39;00m trial \u001b[38;5;129;01min\u001b[39;00m all_trials:\n",
      "File \u001b[0;32m/opt/conda/lib/python3.10/site-packages/ray/tune/execution/tune_controller.py:2017\u001b[0m, in \u001b[0;36mTuneController.cleanup\u001b[0;34m(self)\u001b[0m\n\u001b[1;32m   2015\u001b[0m \u001b[38;5;28;01mdef\u001b[39;00m \u001b[38;5;21mcleanup\u001b[39m(\u001b[38;5;28mself\u001b[39m):\n\u001b[1;32m   2016\u001b[0m \u001b[38;5;250m    \u001b[39m\u001b[38;5;124;03m\"\"\"Cleanup trials and callbacks.\"\"\"\u001b[39;00m\n\u001b[0;32m-> 2017\u001b[0m     \u001b[38;5;28;43mself\u001b[39;49m\u001b[38;5;241;43m.\u001b[39;49m\u001b[43m_cleanup_trials\u001b[49m\u001b[43m(\u001b[49m\u001b[43m)\u001b[49m\n\u001b[1;32m   2018\u001b[0m     \u001b[38;5;28mself\u001b[39m\u001b[38;5;241m.\u001b[39mend_experiment_callbacks()\n",
      "File \u001b[0;32m/opt/conda/lib/python3.10/site-packages/ray/tune/execution/tune_controller.py:849\u001b[0m, in \u001b[0;36mTuneController._cleanup_trials\u001b[0;34m(self)\u001b[0m\n\u001b[1;32m    846\u001b[0m     \u001b[38;5;28mself\u001b[39m\u001b[38;5;241m.\u001b[39m_actor_manager\u001b[38;5;241m.\u001b[39mnext(timeout\u001b[38;5;241m=\u001b[39m\u001b[38;5;241m1\u001b[39m)\n\u001b[1;32m    848\u001b[0m logger\u001b[38;5;241m.\u001b[39mdebug(\u001b[38;5;124m\"\u001b[39m\u001b[38;5;124mForce cleanup of remaining actors\u001b[39m\u001b[38;5;124m\"\u001b[39m)\n\u001b[0;32m--> 849\u001b[0m \u001b[38;5;28;43mself\u001b[39;49m\u001b[38;5;241;43m.\u001b[39;49m\u001b[43m_cleanup_stopping_actors\u001b[49m\u001b[43m(\u001b[49m\u001b[43mforce_all\u001b[49m\u001b[38;5;241;43m=\u001b[39;49m\u001b[38;5;28;43;01mTrue\u001b[39;49;00m\u001b[43m)\u001b[49m\n\u001b[1;32m    851\u001b[0m \u001b[38;5;28mself\u001b[39m\u001b[38;5;241m.\u001b[39m_actor_manager\u001b[38;5;241m.\u001b[39mcleanup()\n",
      "File \u001b[0;32m/opt/conda/lib/python3.10/site-packages/ray/tune/execution/tune_controller.py:690\u001b[0m, in \u001b[0;36mTuneController._cleanup_stopping_actors\u001b[0;34m(self, force_all)\u001b[0m\n\u001b[1;32m    683\u001b[0m \u001b[38;5;28;01mwhile\u001b[39;00m times \u001b[38;5;129;01mand\u001b[39;00m (\n\u001b[1;32m    684\u001b[0m     force_all \u001b[38;5;129;01mor\u001b[39;00m time\u001b[38;5;241m.\u001b[39mmonotonic() \u001b[38;5;241m-\u001b[39m times[\u001b[38;5;241m0\u001b[39m][\u001b[38;5;241m0\u001b[39m] \u001b[38;5;241m>\u001b[39m \u001b[38;5;28mself\u001b[39m\u001b[38;5;241m.\u001b[39m_actor_cleanup_timeout\n\u001b[1;32m    685\u001b[0m ):\n\u001b[1;32m    686\u001b[0m     \u001b[38;5;28;01mif\u001b[39;00m (\n\u001b[1;32m    687\u001b[0m         time\u001b[38;5;241m.\u001b[39mmonotonic() \u001b[38;5;241m-\u001b[39m times[\u001b[38;5;241m0\u001b[39m][\u001b[38;5;241m0\u001b[39m] \u001b[38;5;241m<\u001b[39m \u001b[38;5;28mself\u001b[39m\u001b[38;5;241m.\u001b[39m_actor_force_cleanup_timeout\n\u001b[1;32m    688\u001b[0m     ) \u001b[38;5;129;01mand\u001b[39;00m \u001b[38;5;28mself\u001b[39m\u001b[38;5;241m.\u001b[39m_actor_manager\u001b[38;5;241m.\u001b[39mis_actor_started(tracked_actor\u001b[38;5;241m=\u001b[39mtimes[\u001b[38;5;241m0\u001b[39m][\u001b[38;5;241m1\u001b[39m]):\n\u001b[1;32m    689\u001b[0m         \u001b[38;5;66;03m# Even if force_all=True, we give the actors time to clean up\u001b[39;00m\n\u001b[0;32m--> 690\u001b[0m         \u001b[38;5;28;43mself\u001b[39;49m\u001b[38;5;241;43m.\u001b[39;49m\u001b[43m_actor_manager\u001b[49m\u001b[38;5;241;43m.\u001b[39;49m\u001b[43mnext\u001b[49m\u001b[43m(\u001b[49m\u001b[43mtimeout\u001b[49m\u001b[38;5;241;43m=\u001b[39;49m\u001b[38;5;241;43m1\u001b[39;49m\u001b[43m)\u001b[49m\n\u001b[1;32m    691\u001b[0m         \u001b[38;5;28;01mcontinue\u001b[39;00m\n\u001b[1;32m    693\u001b[0m     _, tracked_actor \u001b[38;5;241m=\u001b[39m times\u001b[38;5;241m.\u001b[39mpopleft()\n",
      "File \u001b[0;32m/opt/conda/lib/python3.10/site-packages/ray/air/execution/_internal/actor_manager.py:214\u001b[0m, in \u001b[0;36mRayActorManager.next\u001b[0;34m(self, timeout)\u001b[0m\n\u001b[1;32m    211\u001b[0m all_futures \u001b[38;5;241m=\u001b[39m resource_futures \u001b[38;5;241m+\u001b[39m shuffled_state_futures \u001b[38;5;241m+\u001b[39m shuffled_task_futures\n\u001b[1;32m    213\u001b[0m start_wait \u001b[38;5;241m=\u001b[39m time\u001b[38;5;241m.\u001b[39mmonotonic()\n\u001b[0;32m--> 214\u001b[0m ready, _ \u001b[38;5;241m=\u001b[39m \u001b[43mray\u001b[49m\u001b[38;5;241;43m.\u001b[39;49m\u001b[43mwait\u001b[49m\u001b[43m(\u001b[49m\u001b[43mall_futures\u001b[49m\u001b[43m,\u001b[49m\u001b[43m \u001b[49m\u001b[43mnum_returns\u001b[49m\u001b[38;5;241;43m=\u001b[39;49m\u001b[38;5;241;43m1\u001b[39;49m\u001b[43m,\u001b[49m\u001b[43m \u001b[49m\u001b[43mtimeout\u001b[49m\u001b[38;5;241;43m=\u001b[39;49m\u001b[43mtimeout\u001b[49m\u001b[43m)\u001b[49m\n\u001b[1;32m    216\u001b[0m \u001b[38;5;28;01mif\u001b[39;00m \u001b[38;5;129;01mnot\u001b[39;00m ready:\n\u001b[1;32m    217\u001b[0m     \u001b[38;5;28;01mreturn\u001b[39;00m \u001b[38;5;28;01mFalse\u001b[39;00m\n",
      "File \u001b[0;32m/opt/conda/lib/python3.10/site-packages/ray/_private/auto_init_hook.py:22\u001b[0m, in \u001b[0;36mwrap_auto_init.<locals>.auto_init_wrapper\u001b[0;34m(*args, **kwargs)\u001b[0m\n\u001b[1;32m     19\u001b[0m \u001b[38;5;129m@wraps\u001b[39m(fn)\n\u001b[1;32m     20\u001b[0m \u001b[38;5;28;01mdef\u001b[39;00m \u001b[38;5;21mauto_init_wrapper\u001b[39m(\u001b[38;5;241m*\u001b[39margs, \u001b[38;5;241m*\u001b[39m\u001b[38;5;241m*\u001b[39mkwargs):\n\u001b[1;32m     21\u001b[0m     auto_init_ray()\n\u001b[0;32m---> 22\u001b[0m     \u001b[38;5;28;01mreturn\u001b[39;00m \u001b[43mfn\u001b[49m\u001b[43m(\u001b[49m\u001b[38;5;241;43m*\u001b[39;49m\u001b[43margs\u001b[49m\u001b[43m,\u001b[49m\u001b[43m \u001b[49m\u001b[38;5;241;43m*\u001b[39;49m\u001b[38;5;241;43m*\u001b[39;49m\u001b[43mkwargs\u001b[49m\u001b[43m)\u001b[49m\n",
      "File \u001b[0;32m/opt/conda/lib/python3.10/site-packages/ray/_private/client_mode_hook.py:103\u001b[0m, in \u001b[0;36mclient_mode_hook.<locals>.wrapper\u001b[0;34m(*args, **kwargs)\u001b[0m\n\u001b[1;32m    101\u001b[0m     \u001b[38;5;28;01mif\u001b[39;00m func\u001b[38;5;241m.\u001b[39m\u001b[38;5;18m__name__\u001b[39m \u001b[38;5;241m!=\u001b[39m \u001b[38;5;124m\"\u001b[39m\u001b[38;5;124minit\u001b[39m\u001b[38;5;124m\"\u001b[39m \u001b[38;5;129;01mor\u001b[39;00m is_client_mode_enabled_by_default:\n\u001b[1;32m    102\u001b[0m         \u001b[38;5;28;01mreturn\u001b[39;00m \u001b[38;5;28mgetattr\u001b[39m(ray, func\u001b[38;5;241m.\u001b[39m\u001b[38;5;18m__name__\u001b[39m)(\u001b[38;5;241m*\u001b[39margs, \u001b[38;5;241m*\u001b[39m\u001b[38;5;241m*\u001b[39mkwargs)\n\u001b[0;32m--> 103\u001b[0m \u001b[38;5;28;01mreturn\u001b[39;00m \u001b[43mfunc\u001b[49m\u001b[43m(\u001b[49m\u001b[38;5;241;43m*\u001b[39;49m\u001b[43margs\u001b[49m\u001b[43m,\u001b[49m\u001b[43m \u001b[49m\u001b[38;5;241;43m*\u001b[39;49m\u001b[38;5;241;43m*\u001b[39;49m\u001b[43mkwargs\u001b[49m\u001b[43m)\u001b[49m\n",
      "File \u001b[0;32m/opt/conda/lib/python3.10/site-packages/ray/_private/worker.py:2847\u001b[0m, in \u001b[0;36mwait\u001b[0;34m(ray_waitables, num_returns, timeout, fetch_local)\u001b[0m\n\u001b[1;32m   2845\u001b[0m timeout \u001b[38;5;241m=\u001b[39m timeout \u001b[38;5;28;01mif\u001b[39;00m timeout \u001b[38;5;129;01mis\u001b[39;00m \u001b[38;5;129;01mnot\u001b[39;00m \u001b[38;5;28;01mNone\u001b[39;00m \u001b[38;5;28;01melse\u001b[39;00m \u001b[38;5;241m10\u001b[39m\u001b[38;5;241m*\u001b[39m\u001b[38;5;241m*\u001b[39m\u001b[38;5;241m6\u001b[39m\n\u001b[1;32m   2846\u001b[0m timeout_milliseconds \u001b[38;5;241m=\u001b[39m \u001b[38;5;28mint\u001b[39m(timeout \u001b[38;5;241m*\u001b[39m \u001b[38;5;241m1000\u001b[39m)\n\u001b[0;32m-> 2847\u001b[0m ready_ids, remaining_ids \u001b[38;5;241m=\u001b[39m \u001b[43mworker\u001b[49m\u001b[38;5;241;43m.\u001b[39;49m\u001b[43mcore_worker\u001b[49m\u001b[38;5;241;43m.\u001b[39;49m\u001b[43mwait\u001b[49m\u001b[43m(\u001b[49m\n\u001b[1;32m   2848\u001b[0m \u001b[43m    \u001b[49m\u001b[43mray_waitables\u001b[49m\u001b[43m,\u001b[49m\n\u001b[1;32m   2849\u001b[0m \u001b[43m    \u001b[49m\u001b[43mnum_returns\u001b[49m\u001b[43m,\u001b[49m\n\u001b[1;32m   2850\u001b[0m \u001b[43m    \u001b[49m\u001b[43mtimeout_milliseconds\u001b[49m\u001b[43m,\u001b[49m\n\u001b[1;32m   2851\u001b[0m \u001b[43m    \u001b[49m\u001b[43mworker\u001b[49m\u001b[38;5;241;43m.\u001b[39;49m\u001b[43mcurrent_task_id\u001b[49m\u001b[43m,\u001b[49m\n\u001b[1;32m   2852\u001b[0m \u001b[43m    \u001b[49m\u001b[43mfetch_local\u001b[49m\u001b[43m,\u001b[49m\n\u001b[1;32m   2853\u001b[0m \u001b[43m\u001b[49m\u001b[43m)\u001b[49m\n\u001b[1;32m   2854\u001b[0m \u001b[38;5;28;01mreturn\u001b[39;00m ready_ids, remaining_ids\n",
      "File \u001b[0;32mpython/ray/_raylet.pyx:3604\u001b[0m, in \u001b[0;36mray._raylet.CoreWorker.wait\u001b[0;34m()\u001b[0m\n",
      "File \u001b[0;32mpython/ray/_raylet.pyx:570\u001b[0m, in \u001b[0;36mray._raylet.check_status\u001b[0;34m()\u001b[0m\n",
      "\u001b[0;31mKeyboardInterrupt\u001b[0m: "
     ]
    }
   ],
   "source": [
    "from ray import tune\n",
    "tune.run(\"DQN\",\n",
    "         config={\"env\": \"MountainCar-v0\",\n",
    "                 # other configurations can be specified here\n",
    "                 # can change training phase with evaluation_interval\n",
    "                 # \"evaluation_interval\": 2,\n",
    "                 # can change evaluation phasae with evaluation_num_episodes\n",
    "                 # \"evaluation_duration\": 20,\n",
    "                 \"framework\": \"tf\",\n",
    "                 \"num_gpus\": 1,\n",
    "                 \"storage_path\": \"./results\",\n",
    "                },\n",
    "#          run_config=RunConfig(storage_path=\"./results\", name=\"DQN_experiment\")\n",
    "        )\n"
   ]
  },
  {
   "cell_type": "markdown",
   "id": "60e869d8",
   "metadata": {
    "execution": {
     "iopub.execute_input": "2024-08-12T10:43:42.508124Z",
     "iopub.status.busy": "2024-08-12T10:43:42.507363Z",
     "iopub.status.idle": "2024-08-12T10:43:42.517620Z",
     "shell.execute_reply": "2024-08-12T10:43:42.515685Z",
     "shell.execute_reply.started": "2024-08-12T10:43:42.508087Z"
    }
   },
   "source": [
    "<h2>Results Summary</h2>\n",
    "\n",
    "Below is a table summarizing the results.  Clearly APPO performed the worst as it was never able to solve the problem even after receiving the most training time and training steps.  PPO was able to solve the problem after 56 minutes of training time.  DQN performed best as it was able to match PPO's solving abilities with only 30 minutes of training time.\n",
    "\n",
    "\n",
    "| Model # | Name                                             | Mean Reward | Training Time | Training Steps |\n",
    "|---------|--------------------------------------------------|-------------|---------------|----------------|\n",
    "| 1       | Asynchronous Proximal Policy Optimization (APPO) | -200        | 1 hr 20 min   | 4757200        |\n",
    "| 2       | Proximal Policy Optimization (PPO)               | -119.99     | 56 min        | 1260000        |\n",
    "| 3       | Deep Q Networks (DQN)                            | -119.56     | 30 min        | 60000          |\n"
   ]
  },
  {
   "cell_type": "markdown",
   "id": "c1d3d389",
   "metadata": {},
   "source": [
    "<h2>Discussion</h2>\n",
    "\n",
    "In conclusion, Proximal Policy Optimization (PPO) outperformed Asynchronous Proximal Policy Optimization (APPO) in solving the Mountain Car problem, likely due to PPO's more stable and straightforward approach to policy updates. PPO's clipping mechanism helps maintain a balance between exploration and exploitation by constraining policy changes, which can lead to more reliable convergence, especially in environments with relatively simple dynamics like Mountain Car. In contrast, APPO's asynchronous updates, while beneficial for scaling and handling diverse experiences, may introduce additional complexity and instability that can be challenging to manage in this specific context.\n",
    "\n",
    "On the other hand, Deep Q Networks (DQN) required less training time compared to PPO, possibly due to the nature of the Mountain Car problem's discrete action space and the efficiency of value-based methods in such scenarios. DQN's use of experience replay and target networks enables rapid learning by leveraging past experiences and stabilizing training, which can be particularly effective when the action space is limited and the state space is not excessively high-dimensional. \n",
    "\n",
    "The project faced several limitations due to the constraints of the Kaggle environment. The absence of support for TensorBoard was particularly significant, as it hindered the ability to visually track the agent's learning progress. TensorBoard would have provided valuable insights by graphically displaying the rewards as they increased with training iterations, offering a more intuitive understanding of the agent's performance over time.\n",
    "\n",
    "Additionally, the Kaggle environment did not permit the saving of trained agents, which was a critical limitation. Without the ability to save and reload models, it was impossible to demonstrate the agent's success in real-time or to record a successful completion of the Mountain Car task. This limitation restricted the ability to showcase the full potential of the trained agent and its capacity to generalize its learned behavior to new instances of the environment.\n",
    "\n",
    "If I ever purchase a computer with a dedicated graphics card, it would nice to fully utilize RLlib's potential!\n",
    "\n",
    "\n",
    "\n",
    "\n"
   ]
  },
  {
   "cell_type": "markdown",
   "id": "ccd98adf-74d0-4b53-8d08-b9947fd49177",
   "metadata": {},
   "source": [
    "<h3>References</h3>\n",
    "\n",
    "1. https://gymnasium.farama.org/environments/classic_control/mountain_car/\n",
    "\n",
    "2. https://docs.ray.io/en/latest/rllib/index.html\n",
    "\n",
    "3. https://docs.ray.io/en/latest/rllib/rllib-algorithms.html\n"
   ]
  },
  {
   "cell_type": "code",
   "execution_count": null,
   "id": "10b43309-3369-48df-9adc-79928b744f82",
   "metadata": {},
   "outputs": [],
   "source": []
  }
 ],
 "metadata": {
  "kaggle": {
   "accelerator": "gpu",
   "dataSources": [],
   "dockerImageVersionId": 30746,
   "isGpuEnabled": true,
   "isInternetEnabled": true,
   "language": "python",
   "sourceType": "notebook"
  },
  "kernelspec": {
   "display_name": "Python 3 (ipykernel)",
   "language": "python",
   "name": "python3"
  },
  "language_info": {
   "codemirror_mode": {
    "name": "ipython",
    "version": 3
   },
   "file_extension": ".py",
   "mimetype": "text/x-python",
   "name": "python",
   "nbconvert_exporter": "python",
   "pygments_lexer": "ipython3",
   "version": "3.10.8"
  }
 },
 "nbformat": 4,
 "nbformat_minor": 5
}
